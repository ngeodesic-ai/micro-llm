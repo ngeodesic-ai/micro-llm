{
 "cells": [
  {
   "cell_type": "code",
   "execution_count": 1,
   "id": "67ef6686-b549-4c68-aad3-e992baafb699",
   "metadata": {},
   "outputs": [
    {
     "data": {
      "text/plain": [
       "{'ok': True,\n",
       " 'label': 'flip_h',\n",
       " 'score': 0.95,\n",
       " 'reason': 'executed',\n",
       " 'plan': {'sequence': ['flip_h']},\n",
       " 'verify': {'ok': True, 'reason': 'executed'},\n",
       " 'result': [[2, 1, 0], [5, 4, 3]],\n",
       " 'aux': {'mapper_reason': 'regex_match'}}"
      ]
     },
     "execution_count": 1,
     "metadata": {},
     "output_type": "execute_result"
    }
   ],
   "source": [
    "from micro_lm.domains.arc.runner import run_arc\n",
    "\n",
    "prompt = \"flip the grid horizontally\"\n",
    "grid   = [[0,1,2],[3,4,5]]\n",
    "res = run_arc(prompt, context={\"grid\": grid}, policy={})\n",
    "\n",
    "res"
   ]
  }
 ],
 "metadata": {
  "kernelspec": {
   "display_name": "Python 3 (ipykernel)",
   "language": "python",
   "name": "python3"
  },
  "language_info": {
   "codemirror_mode": {
    "name": "ipython",
    "version": 3
   },
   "file_extension": ".py",
   "mimetype": "text/x-python",
   "name": "python",
   "nbconvert_exporter": "python",
   "pygments_lexer": "ipython3",
   "version": "3.10.0rc2"
  }
 },
 "nbformat": 4,
 "nbformat_minor": 5
}
