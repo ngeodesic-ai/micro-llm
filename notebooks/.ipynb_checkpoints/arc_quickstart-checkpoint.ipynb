{
 "cells": [
  {
   "cell_type": "code",
   "execution_count": 4,
   "id": "2c145c47-52a8-4efc-bc68-8115c95314a2",
   "metadata": {},
   "outputs": [
    {
     "name": "stdout",
     "output_type": "stream",
     "text": [
      "{'ok': False, 'label': 'abstain', 'score': 0.0, 'reason': 'shim:model_missing', 'artifacts': {'shim': {'model_path': '.artifacts/defi_mapper.joblib', 'ctx': {}}}}\n"
     ]
    }
   ],
   "source": [
    "from micro_lm.core.runner import run_micro\n",
    "\n",
    "res = run_micro(\n",
    "    domain=\"arc\",\n",
    "    prompt=\"flip the grid horizontally\",\n",
    "    context={},       # ARC doesn’t need much context\n",
    "    policy={},        # no policy rules in v0\n",
    "    rails=\"stage11\",\n",
    "    T=128             # trace length\n",
    ")\n",
    "\n",
    "print(res)"
   ]
  }
 ],
 "metadata": {
  "kernelspec": {
   "display_name": "Python 3 (ipykernel)",
   "language": "python",
   "name": "python3"
  },
  "language_info": {
   "codemirror_mode": {
    "name": "ipython",
    "version": 3
   },
   "file_extension": ".py",
   "mimetype": "text/x-python",
   "name": "python",
   "nbconvert_exporter": "python",
   "pygments_lexer": "ipython3",
   "version": "3.10.0rc2"
  }
 },
 "nbformat": 4,
 "nbformat_minor": 5
}
