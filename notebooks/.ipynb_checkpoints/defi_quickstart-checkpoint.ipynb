{
 "cells": [
  {
   "cell_type": "code",
   "execution_count": 4,
   "id": "af28a1cd-602c-45b4-87ce-6e149764f056",
   "metadata": {},
   "outputs": [
    {
     "name": "stdout",
     "output_type": "stream",
     "text": [
      "Intent: abstain\n",
      "Reason: shim:model_missing\n",
      "Verify: None\n",
      "Plan:\n",
      " null\n"
     ]
    }
   ],
   "source": [
    "from micro_lm.core.runner import run_micro\n",
    "import json\n",
    "\n",
    "prompt = \"flip the grid horizontally\"\n",
    "grid = [[0,1,2],[3,4,5]]\n",
    "\n",
    "res = run_micro(\n",
    "    domain=\"arc\",\n",
    "    prompt=prompt,\n",
    "    context={\"grid\": grid},\n",
    "    policy={},\n",
    "    rails=\"stage11\",\n",
    "    T=128\n",
    ")\n",
    "\n",
    "print(\"Intent:\", res.get(\"label\"))\n",
    "print(\"Reason:\", res.get(\"reason\"))\n",
    "print(\"Verify:\", res.get(\"verify\"))\n",
    "print(\"Plan:\\n\", json.dumps(res.get(\"plan\"), indent=2))\n"
   ]
  }
 ],
 "metadata": {
  "kernelspec": {
   "display_name": "Python 3 (ipykernel)",
   "language": "python",
   "name": "python3"
  },
  "language_info": {
   "codemirror_mode": {
    "name": "ipython",
    "version": 3
   },
   "file_extension": ".py",
   "mimetype": "text/x-python",
   "name": "python",
   "nbconvert_exporter": "python",
   "pygments_lexer": "ipython3",
   "version": "3.10.0rc2"
  }
 },
 "nbformat": 4,
 "nbformat_minor": 5
}
