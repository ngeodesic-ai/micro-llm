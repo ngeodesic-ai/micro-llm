{
 "cells": [
  {
   "cell_type": "code",
   "execution_count": 36,
   "id": "cf3e0540-39d8-4746-9fe5-e39c4b161f3b",
   "metadata": {},
   "outputs": [],
   "source": [
    "from micro_lm.core.mapper.base import load_backend\n",
    "from pathlib import Path\n",
    "from typing import List\n",
    "import argparse, json, csv, time, sys\n",
    "import json\n",
    "import os\n",
    "cwd =  os.getcwd().replace(\"/notebooks\",\"\")\n",
    "os.chdir(cwd)"
   ]
  },
  {
   "cell_type": "code",
   "execution_count": 63,
   "id": "06697a57-fd18-484e-8799-1025fa572094",
   "metadata": {
    "scrolled": true
   },
   "outputs": [
    {
     "name": "stdout",
     "output_type": "stream",
     "text": [
      "exists: True size: 91484416\n"
     ]
    }
   ],
   "source": [
    "import os\n",
    "MODEL = \"/Users/ian_moore/repos/micro-lm/.artifacts/defi_mapper.joblib\"\n",
    "print(\"exists:\", os.path.exists(MODEL), \"size:\", os.path.getsize(MODEL))"
   ]
  },
  {
   "cell_type": "code",
   "execution_count": 64,
   "id": "50356dec-1cb8-4578-9542-07b78a96e5a5",
   "metadata": {},
   "outputs": [
    {
     "name": "stdout",
     "output_type": "stream",
     "text": [
      "[mapper] backend= sbert kwargs= {'confidence_threshold': 0.0, 'model_path': '/Users/ian_moore/repos/micro-lm/.artifacts/defi_mapper.joblib'}\n",
      "backend class: <class 'micro_lm.domains.defi.mapper_backends.sbert_backend.SbertBackend'>\n"
     ]
    }
   ],
   "source": []
  },
  {
   "cell_type": "code",
   "execution_count": 65,
   "id": "f13263b6-c24c-4d44-97ce-b2677da244ba",
   "metadata": {},
   "outputs": [
    {
     "ename": "AttributeError",
     "evalue": "Can't get attribute 'SBERTEncoder' on <module 'encoders'>",
     "output_type": "error",
     "traceback": [
      "\u001b[0;31m---------------------------------------------------------------------------\u001b[0m",
      "\u001b[0;31mAttributeError\u001b[0m                            Traceback (most recent call last)",
      "Cell \u001b[0;32mIn[65], line 9\u001b[0m\n\u001b[1;32m      6\u001b[0m \u001b[38;5;28;01mexcept\u001b[39;00m \u001b[38;5;167;01mException\u001b[39;00m:\n\u001b[1;32m      7\u001b[0m     sys\u001b[38;5;241m.\u001b[39mmodules[\u001b[38;5;124m\"\u001b[39m\u001b[38;5;124mencoders\u001b[39m\u001b[38;5;124m\"\u001b[39m] \u001b[38;5;241m=\u001b[39m types\u001b[38;5;241m.\u001b[39mModuleType(\u001b[38;5;124m\"\u001b[39m\u001b[38;5;124mencoders\u001b[39m\u001b[38;5;124m\"\u001b[39m)  \u001b[38;5;66;03m# last resort\u001b[39;00m\n\u001b[0;32m----> 9\u001b[0m M \u001b[38;5;241m=\u001b[39m \u001b[43mjoblib\u001b[49m\u001b[38;5;241;43m.\u001b[39;49m\u001b[43mload\u001b[49m\u001b[43m(\u001b[49m\u001b[43mMODEL\u001b[49m\u001b[43m)\u001b[49m\n\u001b[1;32m     10\u001b[0m labels \u001b[38;5;241m=\u001b[39m \u001b[38;5;28mgetattr\u001b[39m(M, \u001b[38;5;124m\"\u001b[39m\u001b[38;5;124mclasses_\u001b[39m\u001b[38;5;124m\"\u001b[39m, \u001b[38;5;28;01mNone\u001b[39;00m) \u001b[38;5;129;01mor\u001b[39;00m \u001b[38;5;28mgetattr\u001b[39m(M, \u001b[38;5;124m\"\u001b[39m\u001b[38;5;124mlabels_\u001b[39m\u001b[38;5;124m\"\u001b[39m, \u001b[38;5;28;01mNone\u001b[39;00m) \u001b[38;5;129;01mor\u001b[39;00m (M\u001b[38;5;241m.\u001b[39mget(\u001b[38;5;124m\"\u001b[39m\u001b[38;5;124mlabels_\u001b[39m\u001b[38;5;124m\"\u001b[39m) \u001b[38;5;28;01mif\u001b[39;00m \u001b[38;5;28misinstance\u001b[39m(M, \u001b[38;5;28mdict\u001b[39m) \u001b[38;5;28;01melse\u001b[39;00m \u001b[38;5;28;01mNone\u001b[39;00m)\n\u001b[1;32m     11\u001b[0m \u001b[38;5;28mprint\u001b[39m(\u001b[38;5;124m\"\u001b[39m\u001b[38;5;124martifact labels:\u001b[39m\u001b[38;5;124m\"\u001b[39m, labels)\n",
      "File \u001b[0;32m/Library/Frameworks/Python.framework/Versions/3.10/lib/python3.10/site-packages/joblib/numpy_pickle.py:749\u001b[0m, in \u001b[0;36mload\u001b[0;34m(filename, mmap_mode, ensure_native_byte_order)\u001b[0m\n\u001b[1;32m    744\u001b[0m                 \u001b[38;5;28;01mreturn\u001b[39;00m load_compatibility(fobj)\n\u001b[1;32m    746\u001b[0m             \u001b[38;5;66;03m# A memory-mapped array has to be mapped with the endianness\u001b[39;00m\n\u001b[1;32m    747\u001b[0m             \u001b[38;5;66;03m# it has been written with. Other arrays are coerced to the\u001b[39;00m\n\u001b[1;32m    748\u001b[0m             \u001b[38;5;66;03m# native endianness of the host system.\u001b[39;00m\n\u001b[0;32m--> 749\u001b[0m             obj \u001b[38;5;241m=\u001b[39m \u001b[43m_unpickle\u001b[49m\u001b[43m(\u001b[49m\n\u001b[1;32m    750\u001b[0m \u001b[43m                \u001b[49m\u001b[43mfobj\u001b[49m\u001b[43m,\u001b[49m\n\u001b[1;32m    751\u001b[0m \u001b[43m                \u001b[49m\u001b[43mensure_native_byte_order\u001b[49m\u001b[38;5;241;43m=\u001b[39;49m\u001b[43mensure_native_byte_order\u001b[49m\u001b[43m,\u001b[49m\n\u001b[1;32m    752\u001b[0m \u001b[43m                \u001b[49m\u001b[43mfilename\u001b[49m\u001b[38;5;241;43m=\u001b[39;49m\u001b[43mfilename\u001b[49m\u001b[43m,\u001b[49m\n\u001b[1;32m    753\u001b[0m \u001b[43m                \u001b[49m\u001b[43mmmap_mode\u001b[49m\u001b[38;5;241;43m=\u001b[39;49m\u001b[43mvalidated_mmap_mode\u001b[49m\u001b[43m,\u001b[49m\n\u001b[1;32m    754\u001b[0m \u001b[43m            \u001b[49m\u001b[43m)\u001b[49m\n\u001b[1;32m    756\u001b[0m \u001b[38;5;28;01mreturn\u001b[39;00m obj\n",
      "File \u001b[0;32m/Library/Frameworks/Python.framework/Versions/3.10/lib/python3.10/site-packages/joblib/numpy_pickle.py:626\u001b[0m, in \u001b[0;36m_unpickle\u001b[0;34m(fobj, ensure_native_byte_order, filename, mmap_mode)\u001b[0m\n\u001b[1;32m    624\u001b[0m obj \u001b[38;5;241m=\u001b[39m \u001b[38;5;28;01mNone\u001b[39;00m\n\u001b[1;32m    625\u001b[0m \u001b[38;5;28;01mtry\u001b[39;00m:\n\u001b[0;32m--> 626\u001b[0m     obj \u001b[38;5;241m=\u001b[39m \u001b[43munpickler\u001b[49m\u001b[38;5;241;43m.\u001b[39;49m\u001b[43mload\u001b[49m\u001b[43m(\u001b[49m\u001b[43m)\u001b[49m\n\u001b[1;32m    627\u001b[0m     \u001b[38;5;28;01mif\u001b[39;00m unpickler\u001b[38;5;241m.\u001b[39mcompat_mode:\n\u001b[1;32m    628\u001b[0m         warnings\u001b[38;5;241m.\u001b[39mwarn(\n\u001b[1;32m    629\u001b[0m             \u001b[38;5;124m\"\u001b[39m\u001b[38;5;124mThe file \u001b[39m\u001b[38;5;124m'\u001b[39m\u001b[38;5;132;01m%s\u001b[39;00m\u001b[38;5;124m'\u001b[39m\u001b[38;5;124m has been generated with a \u001b[39m\u001b[38;5;124m\"\u001b[39m\n\u001b[1;32m    630\u001b[0m             \u001b[38;5;124m\"\u001b[39m\u001b[38;5;124mjoblib version less than 0.10. \u001b[39m\u001b[38;5;124m\"\u001b[39m\n\u001b[0;32m   (...)\u001b[0m\n\u001b[1;32m    633\u001b[0m             stacklevel\u001b[38;5;241m=\u001b[39m\u001b[38;5;241m3\u001b[39m,\n\u001b[1;32m    634\u001b[0m         )\n",
      "File \u001b[0;32m/Library/Frameworks/Python.framework/Versions/3.10/lib/python3.10/pickle.py:1213\u001b[0m, in \u001b[0;36m_Unpickler.load\u001b[0;34m(self)\u001b[0m\n\u001b[1;32m   1211\u001b[0m             \u001b[38;5;28;01mraise\u001b[39;00m \u001b[38;5;167;01mEOFError\u001b[39;00m\n\u001b[1;32m   1212\u001b[0m         \u001b[38;5;28;01massert\u001b[39;00m \u001b[38;5;28misinstance\u001b[39m(key, bytes_types)\n\u001b[0;32m-> 1213\u001b[0m         \u001b[43mdispatch\u001b[49m\u001b[43m[\u001b[49m\u001b[43mkey\u001b[49m\u001b[43m[\u001b[49m\u001b[38;5;241;43m0\u001b[39;49m\u001b[43m]\u001b[49m\u001b[43m]\u001b[49m\u001b[43m(\u001b[49m\u001b[38;5;28;43mself\u001b[39;49m\u001b[43m)\u001b[49m\n\u001b[1;32m   1214\u001b[0m \u001b[38;5;28;01mexcept\u001b[39;00m _Stop \u001b[38;5;28;01mas\u001b[39;00m stopinst:\n\u001b[1;32m   1215\u001b[0m     \u001b[38;5;28;01mreturn\u001b[39;00m stopinst\u001b[38;5;241m.\u001b[39mvalue\n",
      "File \u001b[0;32m/Library/Frameworks/Python.framework/Versions/3.10/lib/python3.10/pickle.py:1538\u001b[0m, in \u001b[0;36m_Unpickler.load_stack_global\u001b[0;34m(self)\u001b[0m\n\u001b[1;32m   1536\u001b[0m \u001b[38;5;28;01mif\u001b[39;00m \u001b[38;5;28mtype\u001b[39m(name) \u001b[38;5;129;01mis\u001b[39;00m \u001b[38;5;129;01mnot\u001b[39;00m \u001b[38;5;28mstr\u001b[39m \u001b[38;5;129;01mor\u001b[39;00m \u001b[38;5;28mtype\u001b[39m(module) \u001b[38;5;129;01mis\u001b[39;00m \u001b[38;5;129;01mnot\u001b[39;00m \u001b[38;5;28mstr\u001b[39m:\n\u001b[1;32m   1537\u001b[0m     \u001b[38;5;28;01mraise\u001b[39;00m UnpicklingError(\u001b[38;5;124m\"\u001b[39m\u001b[38;5;124mSTACK_GLOBAL requires str\u001b[39m\u001b[38;5;124m\"\u001b[39m)\n\u001b[0;32m-> 1538\u001b[0m \u001b[38;5;28mself\u001b[39m\u001b[38;5;241m.\u001b[39mappend(\u001b[38;5;28;43mself\u001b[39;49m\u001b[38;5;241;43m.\u001b[39;49m\u001b[43mfind_class\u001b[49m\u001b[43m(\u001b[49m\u001b[43mmodule\u001b[49m\u001b[43m,\u001b[49m\u001b[43m \u001b[49m\u001b[43mname\u001b[49m\u001b[43m)\u001b[49m)\n",
      "File \u001b[0;32m/Library/Frameworks/Python.framework/Versions/3.10/lib/python3.10/pickle.py:1582\u001b[0m, in \u001b[0;36m_Unpickler.find_class\u001b[0;34m(self, module, name)\u001b[0m\n\u001b[1;32m   1580\u001b[0m \u001b[38;5;28m__import__\u001b[39m(module, level\u001b[38;5;241m=\u001b[39m\u001b[38;5;241m0\u001b[39m)\n\u001b[1;32m   1581\u001b[0m \u001b[38;5;28;01mif\u001b[39;00m \u001b[38;5;28mself\u001b[39m\u001b[38;5;241m.\u001b[39mproto \u001b[38;5;241m>\u001b[39m\u001b[38;5;241m=\u001b[39m \u001b[38;5;241m4\u001b[39m:\n\u001b[0;32m-> 1582\u001b[0m     \u001b[38;5;28;01mreturn\u001b[39;00m \u001b[43m_getattribute\u001b[49m\u001b[43m(\u001b[49m\u001b[43msys\u001b[49m\u001b[38;5;241;43m.\u001b[39;49m\u001b[43mmodules\u001b[49m\u001b[43m[\u001b[49m\u001b[43mmodule\u001b[49m\u001b[43m]\u001b[49m\u001b[43m,\u001b[49m\u001b[43m \u001b[49m\u001b[43mname\u001b[49m\u001b[43m)\u001b[49m[\u001b[38;5;241m0\u001b[39m]\n\u001b[1;32m   1583\u001b[0m \u001b[38;5;28;01melse\u001b[39;00m:\n\u001b[1;32m   1584\u001b[0m     \u001b[38;5;28;01mreturn\u001b[39;00m \u001b[38;5;28mgetattr\u001b[39m(sys\u001b[38;5;241m.\u001b[39mmodules[module], name)\n",
      "File \u001b[0;32m/Library/Frameworks/Python.framework/Versions/3.10/lib/python3.10/pickle.py:331\u001b[0m, in \u001b[0;36m_getattribute\u001b[0;34m(obj, name)\u001b[0m\n\u001b[1;32m    329\u001b[0m         obj \u001b[38;5;241m=\u001b[39m \u001b[38;5;28mgetattr\u001b[39m(obj, subpath)\n\u001b[1;32m    330\u001b[0m     \u001b[38;5;28;01mexcept\u001b[39;00m \u001b[38;5;167;01mAttributeError\u001b[39;00m:\n\u001b[0;32m--> 331\u001b[0m         \u001b[38;5;28;01mraise\u001b[39;00m \u001b[38;5;167;01mAttributeError\u001b[39;00m(\u001b[38;5;124m\"\u001b[39m\u001b[38;5;124mCan\u001b[39m\u001b[38;5;124m'\u001b[39m\u001b[38;5;124mt get attribute \u001b[39m\u001b[38;5;132;01m{!r}\u001b[39;00m\u001b[38;5;124m on \u001b[39m\u001b[38;5;132;01m{!r}\u001b[39;00m\u001b[38;5;124m\"\u001b[39m\n\u001b[1;32m    332\u001b[0m                              \u001b[38;5;241m.\u001b[39mformat(name, obj)) \u001b[38;5;28;01mfrom\u001b[39;00m \u001b[38;5;28;01mNone\u001b[39;00m\n\u001b[1;32m    333\u001b[0m \u001b[38;5;28;01mreturn\u001b[39;00m obj, parent\n",
      "\u001b[0;31mAttributeError\u001b[0m: Can't get attribute 'SBERTEncoder' on <module 'encoders'>"
     ]
    }
   ],
   "source": [
    "import os\n",
    "MODEL = \"/Users/ian_moore/repos/micro-lm/.artifacts/defi_mapper.joblib\"\n",
    "print(\"exists:\", os.path.exists(MODEL), \"size:\", os.path.getsize(MODEL))\n",
    "\n",
    "exists: True size: 91484416\n",
    "\n",
    "\n",
    "from micro_lm.core.mapper.base import load_backend\n",
    "be = load_backend(\"sbert\", confidence_threshold=0.0, model_path=MODEL)\n",
    "print(\"backend class:\", be.__class__)\n",
    "\n",
    "[mapper] backend= sbert kwargs= {'confidence_threshold': 0.0, 'model_path': '/Users/ian_moore/repos/micro-lm/.artifacts/defi_mapper.joblib'}\n",
    "backend class: <class 'micro_lm.domains.defi.mapper_backends.sbert_backend.SbertBackend'>\n",
    "\n",
    "import sys, importlib, types, joblib\n",
    "# Map legacy module name used at train time to your repo module\n",
    "try:\n",
    "    enc_mod = importlib.import_module(\"micro_lm.core.mapper.encoders\")\n",
    "    sys.modules[\"encoders\"] = enc_mod\n",
    "except Exception:\n",
    "    sys.modules[\"encoders\"] = types.ModuleType(\"encoders\")  # last resort\n",
    "\n",
    "M = joblib.load(MODEL)\n",
    "labels = getattr(M, \"classes_\", None) or getattr(M, \"labels_\", None) or (M.get(\"labels_\") if isinstance(M, dict) else None)\n",
    "print(\"artifact labels:\", labels)\n",
    "\n",
    "---------------------------------------------------------------------------\n",
    "AttributeError                            Traceback (most recent call last)\n",
    "Cell In[65], line 9\n",
    "      6 except Exception:\n",
    "      7     sys.modules[\"encoders\"] = types.ModuleType(\"encoders\")  # last resort\n",
    "----> 9 M = joblib.load(MODEL)\n",
    "     10 labels = getattr(M, \"classes_\", None) or getattr(M, \"labels_\", None) or (M.get(\"labels_\") if isinstance(M, dict) else None)\n",
    "     11 print(\"artifact labels:\", labels)\n",
    "\n",
    "File /Library/Frameworks/Python.framework/Versions/3.10/lib/python3.10/site-packages/joblib/numpy_pickle.py:749, in load(filename, mmap_mode, ensure_native_byte_order)\n",
    "    744                 return load_compatibility(fobj)\n",
    "    746             # A memory-mapped array has to be mapped with the endianness\n",
    "    747             # it has been written with. Other arrays are coerced to the\n",
    "    748             # native endianness of the host system.\n",
    "--> 749             obj = _unpickle(\n",
    "    750                 fobj,\n",
    "    751                 ensure_native_byte_order=ensure_native_byte_order,\n",
    "    752                 filename=filename,\n",
    "    753                 mmap_mode=validated_mmap_mode,\n",
    "    754             )\n",
    "    756 return obj\n",
    "\n",
    "File /Library/Frameworks/Python.framework/Versions/3.10/lib/python3.10/site-packages/joblib/numpy_pickle.py:626, in _unpickle(fobj, ensure_native_byte_order, filename, mmap_mode)\n",
    "    624 obj = None\n",
    "    625 try:\n",
    "--> 626     obj = unpickler.load()\n",
    "    627     if unpickler.compat_mode:\n",
    "    628         warnings.warn(\n",
    "    629             \"The file '%s' has been generated with a \"\n",
    "    630             \"joblib version less than 0.10. \"\n",
    "   (...)\n",
    "    633             stacklevel=3,\n",
    "    634         )\n",
    "\n",
    "File /Library/Frameworks/Python.framework/Versions/3.10/lib/python3.10/pickle.py:1213, in _Unpickler.load(self)\n",
    "   1211             raise EOFError\n",
    "   1212         assert isinstance(key, bytes_types)\n",
    "-> 1213         dispatch[key[0]](self)\n",
    "   1214 except _Stop as stopinst:\n",
    "   1215     return stopinst.value\n",
    "\n",
    "File /Library/Frameworks/Python.framework/Versions/3.10/lib/python3.10/pickle.py:1538, in _Unpickler.load_stack_global(self)\n",
    "   1536 if type(name) is not str or type(module) is not str:\n",
    "   1537     raise UnpicklingError(\"STACK_GLOBAL requires str\")\n",
    "-> 1538 self.append(self.find_class(module, name))\n",
    "\n",
    "File /Library/Frameworks/Python.framework/Versions/3.10/lib/python3.10/pickle.py:1582, in _Unpickler.find_class(self, module, name)\n",
    "   1580 __import__(module, level=0)\n",
    "   1581 if self.proto >= 4:\n",
    "-> 1582     return _getattribute(sys.modules[module], name)[0]\n",
    "   1583 else:\n",
    "   1584     return getattr(sys.modules[module], name)\n",
    "\n",
    "File /Library/Frameworks/Python.framework/Versions/3.10/lib/python3.10/pickle.py:331, in _getattribute(obj, name)\n",
    "    329         obj = getattr(obj, subpath)\n",
    "    330     except AttributeError:\n",
    "--> 331         raise AttributeError(\"Can't get attribute {!r} on {!r}\"\n",
    "    332                              .format(name, obj)) from None\n",
    "    333 return obj, parent\n",
    "\n",
    "AttributeError: Can't get attribute 'SBERTEncoder' on <module 'encoders'>"
   ]
  },
  {
   "cell_type": "code",
   "execution_count": 66,
   "id": "e9f6bfb0-0739-4782-a24c-340c1f5c979c",
   "metadata": {},
   "outputs": [
    {
     "name": "stdout",
     "output_type": "stream",
     "text": [
      "/Library/Frameworks/Python.framework/Versions/3.10/lib/python3.10/site-packages/torch/nn/modules/module.py:1784: FutureWarning: `encoder_attention_mask` is deprecated and will be removed in version 4.55.0 for `BertSdpaSelfAttention.forward`.\n",
      "  return forward_call(*args, **kwargs)\n",
      "[train_mapper_embed] Wrote mapper to .artifacts/defi_mapper.joblib (n=1000)\n"
     ]
    }
   ],
   "source": [
    "!PYTHONPATH=. python3 src/micro_lm/domains/defi/benches/train_mapper_embed.py \\\n",
    "  --labels_csv tests/fixtures/defi/defi_mapper_labeled_large.csv \\\n",
    "  --out_path .artifacts/defi_mapper.joblib \\\n",
    "  --sbert sentence-transformers/all-MiniLM-L6-v2 \\\n",
    "  --C 8 --max_iter 2000 --calibrate"
   ]
  },
  {
   "cell_type": "code",
   "execution_count": 67,
   "id": "171bb86d-8077-4ece-844c-64d4ce2b6530",
   "metadata": {},
   "outputs": [
    {
     "name": "stdout",
     "output_type": "stream",
     "text": [
      "[mapper] backend= sbert kwargs= {'confidence_threshold': 0.0, 'model_path': '.artifacts/defi_mapper.joblib'}\n",
      "[(None, 0.0), (None, 0.0)]\n"
     ]
    }
   ],
   "source": [
    "from micro_lm.core.mapper.base import load_backend\n",
    "be = load_backend(\"sbert\", confidence_threshold=0.0, model_path=\".artifacts/defi_mapper.joblib\")\n",
    "print(be.predict([\"deposit 10 USDC\", \"swap 5 ETH to USDC\"]))"
   ]
  },
  {
   "cell_type": "code",
   "execution_count": 68,
   "id": "db0994d4-f648-4079-b3e8-493f68f74450",
   "metadata": {},
   "outputs": [
    {
     "name": "stdout",
     "output_type": "stream",
     "text": [
      "[mapper] backend= sbert kwargs= {'confidence_threshold': 0.0, 'model_path': '.artifacts/defi_mapper.joblib'}\n",
      "[(None, 0.0), (None, 0.0), (None, 0.0), (None, 0.0), (None, 0.0), (None, 0.0), (None, 0.0), (None, 0.0), (None, 0.0), (None, 0.0)]\n"
     ]
    }
   ],
   "source": [
    "import json\n",
    "prompts=[]\n",
    "with open(\"tests/fixtures/defi/defi_mapper_5k_prompts.jsonl\") as f:\n",
    "    for i, line in enumerate(f):\n",
    "        prompts.append(json.loads(line)[\"prompt\"])\n",
    "        if i>=9: break\n",
    "be = load_backend(\"sbert\", confidence_threshold=0.0, model_path=\".artifacts/defi_mapper.joblib\")\n",
    "print(be.predict(prompts))"
   ]
  },
  {
   "cell_type": "code",
   "execution_count": 54,
   "id": "83b6fda4-901b-45f2-a703-4dabb8e49e87",
   "metadata": {},
   "outputs": [
    {
     "name": "stdout",
     "output_type": "stream",
     "text": [
      "<function load_backend at 0x1038b68c0> /Users/ian_moore/repos/micro-lm/src/micro_lm/core/mapper/base.py\n"
     ]
    }
   ],
   "source": [
    "import os, sys, inspect\n",
    "os.chdir(\"/Users/ian_moore/repos/micro-lm\")  # adjust if needed\n",
    "if \".\" not in sys.path: sys.path.insert(0, \".\")\n",
    "from micro_lm.core.mapper.base import load_backend\n",
    "print(load_backend, inspect.getsourcefile(load_backend))"
   ]
  },
  {
   "cell_type": "code",
   "execution_count": 55,
   "id": "5f485dee-2409-4e9c-ac7e-c91c32a14e3e",
   "metadata": {},
   "outputs": [
    {
     "name": "stdout",
     "output_type": "stream",
     "text": [
      "SBERT OK: True\n"
     ]
    }
   ],
   "source": [
    "from sentence_transformers import SentenceTransformer\n",
    "m = SentenceTransformer(\"sentence-transformers/all-MiniLM-L6-v2\")  # must load from cache or download\n",
    "print(\"SBERT OK:\", m is not None)"
   ]
  },
  {
   "cell_type": "code",
   "execution_count": 56,
   "id": "829019bf-e413-47ce-92a5-f4b19d114f2b",
   "metadata": {},
   "outputs": [
    {
     "name": "stdout",
     "output_type": "stream",
     "text": [
      "[mapper] backend= sbert kwargs= {'confidence_threshold': 0.0, 'model_path': '/Users/ian_moore/repos/micro-lm/.artifacts/defi_mapper.joblib'}\n",
      "encoder type: <class 'NoneType'>\n"
     ]
    }
   ],
   "source": [
    "MODEL = \"/Users/ian_moore/repos/micro-lm/.artifacts/defi_mapper.joblib\"  # absolute path\n",
    "be = load_backend(\"sbert\", confidence_threshold=0.0, model_path=MODEL)\n",
    "print(\"encoder type:\", type(getattr(be, \"encoder\", None)))"
   ]
  },
  {
   "cell_type": "code",
   "execution_count": 52,
   "id": "2e559c97-defd-489b-ade0-de8901817bcf",
   "metadata": {},
   "outputs": [
    {
     "name": "stdout",
     "output_type": "stream",
     "text": [
      "[mapper] backend= sbert kwargs= {'confidence_threshold': 0.0, 'model_path': '/Users/ian_moore/repos/micro-lm/.artifacts/defi_mapper.joblib'}\n",
      "encoder: <class 'NoneType'>\n"
     ]
    }
   ],
   "source": [
    "from micro_lm.core.mapper.base import load_backend\n",
    "MODEL=\"/Users/ian_moore/repos/micro-lm/.artifacts/defi_mapper.joblib\"\n",
    "be = load_backend(\"sbert\", confidence_threshold=0.0, model_path=MODEL)\n",
    "print(\"encoder:\", type(getattr(be, \"encoder\", None)))"
   ]
  },
  {
   "cell_type": "code",
   "execution_count": 47,
   "id": "1d474810-ec29-46ca-971b-6245aeb67783",
   "metadata": {},
   "outputs": [
    {
     "name": "stdout",
     "output_type": "stream",
     "text": [
      "[mapper] backend= sbert kwargs= {'confidence_threshold': 0.0, 'model_path': '/Users/ian_moore/repos/micro-lm/.artifacts/defi_mapper.joblib'}\n",
      "[(None, 0.0), (None, 0.0)]\n"
     ]
    }
   ],
   "source": [
    "# 1) Use repo code and the right CWD\n",
    "import os, sys\n",
    "os.chdir(\"/Users/ian_moore/repos/micro-lm\")      # adjust if different\n",
    "if \".\" not in sys.path: sys.path.insert(0, \".\")   # same effect as PYTHONPATH=.\n",
    "\n",
    "# 2) Load the mapper via the repo loader (DON’T joblib.load directly)\n",
    "from micro_lm.core.mapper.base import load_backend\n",
    "MODEL = \"/Users/ian_moore/repos/micro-lm/.artifacts/defi_mapper.joblib\"  # absolute path is safest\n",
    "be = load_backend(\"sbert\", confidence_threshold=0.0, model_path=MODEL)\n",
    "print(be.predict([\"deposit 10 USDC\", \"swap 5 ETH to USDC\"]))"
   ]
  },
  {
   "cell_type": "code",
   "execution_count": 50,
   "id": "4b5be5dd-970b-441d-bdf6-fb403b6fb0b7",
   "metadata": {},
   "outputs": [
    {
     "name": "stdout",
     "output_type": "stream",
     "text": [
      "[mapper] backend= sbert kwargs= {'confidence_threshold': 0.0, 'model_path': '/Users/ian_moore/repos/micro-lm/.artifacts/defi_mapper.joblib'}\n",
      "[(None, 0.0), (None, 0.0)]\n"
     ]
    }
   ],
   "source": [
    "# 1) Use repo code and the right CWD\n",
    "import os, sys\n",
    "os.chdir(\"/Users/ian_moore/repos/micro-lm\")      # adjust if different\n",
    "if \".\" not in sys.path: sys.path.insert(0, \".\")   # same effect as PYTHONPATH=.\n",
    "\n",
    "# 2) Load the mapper via the repo loader (DON’T joblib.load directly)\n",
    "from micro_lm.core.mapper.base import load_backend\n",
    "MODEL = \"/Users/ian_moore/repos/micro-lm/.artifacts/defi_mapper.joblib\"  # absolute path is safest\n",
    "be = load_backend(\"sbert\", confidence_threshold=0.0, model_path=MODEL)\n",
    "print(be.predict([\"deposit 10 USDC\", \"swap 5 ETH to USDC\"]))\n"
   ]
  },
  {
   "cell_type": "code",
   "execution_count": 49,
   "id": "d6f287e7-4417-43b3-9375-5e7bcc5c28d9",
   "metadata": {},
   "outputs": [
    {
     "name": "stdout",
     "output_type": "stream",
     "text": [
      "<function load_backend at 0x1038b68c0> /Users/ian_moore/repos/micro-lm/src/micro_lm/core/mapper/base.py\n",
      "/Users/ian_moore/repos/micro-lm /Users/ian_moore/repos/micro-lm/.artifacts/defi_mapper.joblib\n"
     ]
    }
   ],
   "source": [
    "import inspect\n",
    "print(load_backend, inspect.getsourcefile(load_backend))\n",
    "print(os.getcwd(), MODEL)"
   ]
  },
  {
   "cell_type": "code",
   "execution_count": 48,
   "id": "a9e8eb9d-65b5-445f-a104-b7a84f8e1334",
   "metadata": {},
   "outputs": [
    {
     "ename": "AttributeError",
     "evalue": "Can't get attribute 'SBERTEncoder' on <module 'encoders'>",
     "output_type": "error",
     "traceback": [
      "\u001b[0;31m---------------------------------------------------------------------------\u001b[0m",
      "\u001b[0;31mAttributeError\u001b[0m                            Traceback (most recent call last)",
      "Cell \u001b[0;32mIn[48], line 11\u001b[0m\n\u001b[1;32m      7\u001b[0m \u001b[38;5;28;01mexcept\u001b[39;00m \u001b[38;5;167;01mException\u001b[39;00m:\n\u001b[1;32m      8\u001b[0m     \u001b[38;5;66;03m# As a last resort, create a dummy module (only if the pickle doesn’t require actual classes)\u001b[39;00m\n\u001b[1;32m      9\u001b[0m     sys\u001b[38;5;241m.\u001b[39mmodules[\u001b[38;5;124m\"\u001b[39m\u001b[38;5;124mencoders\u001b[39m\u001b[38;5;124m\"\u001b[39m] \u001b[38;5;241m=\u001b[39m types\u001b[38;5;241m.\u001b[39mModuleType(\u001b[38;5;124m\"\u001b[39m\u001b[38;5;124mencoders\u001b[39m\u001b[38;5;124m\"\u001b[39m)\n\u001b[0;32m---> 11\u001b[0m M \u001b[38;5;241m=\u001b[39m \u001b[43mjoblib\u001b[49m\u001b[38;5;241;43m.\u001b[39;49m\u001b[43mload\u001b[49m\u001b[43m(\u001b[49m\u001b[43mMODEL\u001b[49m\u001b[43m)\u001b[49m\n\u001b[1;32m     12\u001b[0m labels \u001b[38;5;241m=\u001b[39m \u001b[38;5;28mgetattr\u001b[39m(M, \u001b[38;5;124m\"\u001b[39m\u001b[38;5;124mclasses_\u001b[39m\u001b[38;5;124m\"\u001b[39m, \u001b[38;5;28;01mNone\u001b[39;00m) \u001b[38;5;129;01mor\u001b[39;00m \u001b[38;5;28mgetattr\u001b[39m(M, \u001b[38;5;124m\"\u001b[39m\u001b[38;5;124mlabels_\u001b[39m\u001b[38;5;124m\"\u001b[39m, \u001b[38;5;28;01mNone\u001b[39;00m) \u001b[38;5;129;01mor\u001b[39;00m (M\u001b[38;5;241m.\u001b[39mget(\u001b[38;5;124m\"\u001b[39m\u001b[38;5;124mlabels_\u001b[39m\u001b[38;5;124m\"\u001b[39m) \u001b[38;5;28;01mif\u001b[39;00m \u001b[38;5;28misinstance\u001b[39m(M, \u001b[38;5;28mdict\u001b[39m) \u001b[38;5;28;01melse\u001b[39;00m \u001b[38;5;28;01mNone\u001b[39;00m)\n\u001b[1;32m     13\u001b[0m \u001b[38;5;28mprint\u001b[39m(\u001b[38;5;124m\"\u001b[39m\u001b[38;5;124mlabels:\u001b[39m\u001b[38;5;124m\"\u001b[39m, labels)\n",
      "File \u001b[0;32m/Library/Frameworks/Python.framework/Versions/3.10/lib/python3.10/site-packages/joblib/numpy_pickle.py:749\u001b[0m, in \u001b[0;36mload\u001b[0;34m(filename, mmap_mode, ensure_native_byte_order)\u001b[0m\n\u001b[1;32m    744\u001b[0m                 \u001b[38;5;28;01mreturn\u001b[39;00m load_compatibility(fobj)\n\u001b[1;32m    746\u001b[0m             \u001b[38;5;66;03m# A memory-mapped array has to be mapped with the endianness\u001b[39;00m\n\u001b[1;32m    747\u001b[0m             \u001b[38;5;66;03m# it has been written with. Other arrays are coerced to the\u001b[39;00m\n\u001b[1;32m    748\u001b[0m             \u001b[38;5;66;03m# native endianness of the host system.\u001b[39;00m\n\u001b[0;32m--> 749\u001b[0m             obj \u001b[38;5;241m=\u001b[39m \u001b[43m_unpickle\u001b[49m\u001b[43m(\u001b[49m\n\u001b[1;32m    750\u001b[0m \u001b[43m                \u001b[49m\u001b[43mfobj\u001b[49m\u001b[43m,\u001b[49m\n\u001b[1;32m    751\u001b[0m \u001b[43m                \u001b[49m\u001b[43mensure_native_byte_order\u001b[49m\u001b[38;5;241;43m=\u001b[39;49m\u001b[43mensure_native_byte_order\u001b[49m\u001b[43m,\u001b[49m\n\u001b[1;32m    752\u001b[0m \u001b[43m                \u001b[49m\u001b[43mfilename\u001b[49m\u001b[38;5;241;43m=\u001b[39;49m\u001b[43mfilename\u001b[49m\u001b[43m,\u001b[49m\n\u001b[1;32m    753\u001b[0m \u001b[43m                \u001b[49m\u001b[43mmmap_mode\u001b[49m\u001b[38;5;241;43m=\u001b[39;49m\u001b[43mvalidated_mmap_mode\u001b[49m\u001b[43m,\u001b[49m\n\u001b[1;32m    754\u001b[0m \u001b[43m            \u001b[49m\u001b[43m)\u001b[49m\n\u001b[1;32m    756\u001b[0m \u001b[38;5;28;01mreturn\u001b[39;00m obj\n",
      "File \u001b[0;32m/Library/Frameworks/Python.framework/Versions/3.10/lib/python3.10/site-packages/joblib/numpy_pickle.py:626\u001b[0m, in \u001b[0;36m_unpickle\u001b[0;34m(fobj, ensure_native_byte_order, filename, mmap_mode)\u001b[0m\n\u001b[1;32m    624\u001b[0m obj \u001b[38;5;241m=\u001b[39m \u001b[38;5;28;01mNone\u001b[39;00m\n\u001b[1;32m    625\u001b[0m \u001b[38;5;28;01mtry\u001b[39;00m:\n\u001b[0;32m--> 626\u001b[0m     obj \u001b[38;5;241m=\u001b[39m \u001b[43munpickler\u001b[49m\u001b[38;5;241;43m.\u001b[39;49m\u001b[43mload\u001b[49m\u001b[43m(\u001b[49m\u001b[43m)\u001b[49m\n\u001b[1;32m    627\u001b[0m     \u001b[38;5;28;01mif\u001b[39;00m unpickler\u001b[38;5;241m.\u001b[39mcompat_mode:\n\u001b[1;32m    628\u001b[0m         warnings\u001b[38;5;241m.\u001b[39mwarn(\n\u001b[1;32m    629\u001b[0m             \u001b[38;5;124m\"\u001b[39m\u001b[38;5;124mThe file \u001b[39m\u001b[38;5;124m'\u001b[39m\u001b[38;5;132;01m%s\u001b[39;00m\u001b[38;5;124m'\u001b[39m\u001b[38;5;124m has been generated with a \u001b[39m\u001b[38;5;124m\"\u001b[39m\n\u001b[1;32m    630\u001b[0m             \u001b[38;5;124m\"\u001b[39m\u001b[38;5;124mjoblib version less than 0.10. \u001b[39m\u001b[38;5;124m\"\u001b[39m\n\u001b[0;32m   (...)\u001b[0m\n\u001b[1;32m    633\u001b[0m             stacklevel\u001b[38;5;241m=\u001b[39m\u001b[38;5;241m3\u001b[39m,\n\u001b[1;32m    634\u001b[0m         )\n",
      "File \u001b[0;32m/Library/Frameworks/Python.framework/Versions/3.10/lib/python3.10/pickle.py:1213\u001b[0m, in \u001b[0;36m_Unpickler.load\u001b[0;34m(self)\u001b[0m\n\u001b[1;32m   1211\u001b[0m             \u001b[38;5;28;01mraise\u001b[39;00m \u001b[38;5;167;01mEOFError\u001b[39;00m\n\u001b[1;32m   1212\u001b[0m         \u001b[38;5;28;01massert\u001b[39;00m \u001b[38;5;28misinstance\u001b[39m(key, bytes_types)\n\u001b[0;32m-> 1213\u001b[0m         \u001b[43mdispatch\u001b[49m\u001b[43m[\u001b[49m\u001b[43mkey\u001b[49m\u001b[43m[\u001b[49m\u001b[38;5;241;43m0\u001b[39;49m\u001b[43m]\u001b[49m\u001b[43m]\u001b[49m\u001b[43m(\u001b[49m\u001b[38;5;28;43mself\u001b[39;49m\u001b[43m)\u001b[49m\n\u001b[1;32m   1214\u001b[0m \u001b[38;5;28;01mexcept\u001b[39;00m _Stop \u001b[38;5;28;01mas\u001b[39;00m stopinst:\n\u001b[1;32m   1215\u001b[0m     \u001b[38;5;28;01mreturn\u001b[39;00m stopinst\u001b[38;5;241m.\u001b[39mvalue\n",
      "File \u001b[0;32m/Library/Frameworks/Python.framework/Versions/3.10/lib/python3.10/pickle.py:1538\u001b[0m, in \u001b[0;36m_Unpickler.load_stack_global\u001b[0;34m(self)\u001b[0m\n\u001b[1;32m   1536\u001b[0m \u001b[38;5;28;01mif\u001b[39;00m \u001b[38;5;28mtype\u001b[39m(name) \u001b[38;5;129;01mis\u001b[39;00m \u001b[38;5;129;01mnot\u001b[39;00m \u001b[38;5;28mstr\u001b[39m \u001b[38;5;129;01mor\u001b[39;00m \u001b[38;5;28mtype\u001b[39m(module) \u001b[38;5;129;01mis\u001b[39;00m \u001b[38;5;129;01mnot\u001b[39;00m \u001b[38;5;28mstr\u001b[39m:\n\u001b[1;32m   1537\u001b[0m     \u001b[38;5;28;01mraise\u001b[39;00m UnpicklingError(\u001b[38;5;124m\"\u001b[39m\u001b[38;5;124mSTACK_GLOBAL requires str\u001b[39m\u001b[38;5;124m\"\u001b[39m)\n\u001b[0;32m-> 1538\u001b[0m \u001b[38;5;28mself\u001b[39m\u001b[38;5;241m.\u001b[39mappend(\u001b[38;5;28;43mself\u001b[39;49m\u001b[38;5;241;43m.\u001b[39;49m\u001b[43mfind_class\u001b[49m\u001b[43m(\u001b[49m\u001b[43mmodule\u001b[49m\u001b[43m,\u001b[49m\u001b[43m \u001b[49m\u001b[43mname\u001b[49m\u001b[43m)\u001b[49m)\n",
      "File \u001b[0;32m/Library/Frameworks/Python.framework/Versions/3.10/lib/python3.10/pickle.py:1582\u001b[0m, in \u001b[0;36m_Unpickler.find_class\u001b[0;34m(self, module, name)\u001b[0m\n\u001b[1;32m   1580\u001b[0m \u001b[38;5;28m__import__\u001b[39m(module, level\u001b[38;5;241m=\u001b[39m\u001b[38;5;241m0\u001b[39m)\n\u001b[1;32m   1581\u001b[0m \u001b[38;5;28;01mif\u001b[39;00m \u001b[38;5;28mself\u001b[39m\u001b[38;5;241m.\u001b[39mproto \u001b[38;5;241m>\u001b[39m\u001b[38;5;241m=\u001b[39m \u001b[38;5;241m4\u001b[39m:\n\u001b[0;32m-> 1582\u001b[0m     \u001b[38;5;28;01mreturn\u001b[39;00m \u001b[43m_getattribute\u001b[49m\u001b[43m(\u001b[49m\u001b[43msys\u001b[49m\u001b[38;5;241;43m.\u001b[39;49m\u001b[43mmodules\u001b[49m\u001b[43m[\u001b[49m\u001b[43mmodule\u001b[49m\u001b[43m]\u001b[49m\u001b[43m,\u001b[49m\u001b[43m \u001b[49m\u001b[43mname\u001b[49m\u001b[43m)\u001b[49m[\u001b[38;5;241m0\u001b[39m]\n\u001b[1;32m   1583\u001b[0m \u001b[38;5;28;01melse\u001b[39;00m:\n\u001b[1;32m   1584\u001b[0m     \u001b[38;5;28;01mreturn\u001b[39;00m \u001b[38;5;28mgetattr\u001b[39m(sys\u001b[38;5;241m.\u001b[39mmodules[module], name)\n",
      "File \u001b[0;32m/Library/Frameworks/Python.framework/Versions/3.10/lib/python3.10/pickle.py:331\u001b[0m, in \u001b[0;36m_getattribute\u001b[0;34m(obj, name)\u001b[0m\n\u001b[1;32m    329\u001b[0m         obj \u001b[38;5;241m=\u001b[39m \u001b[38;5;28mgetattr\u001b[39m(obj, subpath)\n\u001b[1;32m    330\u001b[0m     \u001b[38;5;28;01mexcept\u001b[39;00m \u001b[38;5;167;01mAttributeError\u001b[39;00m:\n\u001b[0;32m--> 331\u001b[0m         \u001b[38;5;28;01mraise\u001b[39;00m \u001b[38;5;167;01mAttributeError\u001b[39;00m(\u001b[38;5;124m\"\u001b[39m\u001b[38;5;124mCan\u001b[39m\u001b[38;5;124m'\u001b[39m\u001b[38;5;124mt get attribute \u001b[39m\u001b[38;5;132;01m{!r}\u001b[39;00m\u001b[38;5;124m on \u001b[39m\u001b[38;5;132;01m{!r}\u001b[39;00m\u001b[38;5;124m\"\u001b[39m\n\u001b[1;32m    332\u001b[0m                              \u001b[38;5;241m.\u001b[39mformat(name, obj)) \u001b[38;5;28;01mfrom\u001b[39;00m \u001b[38;5;28;01mNone\u001b[39;00m\n\u001b[1;32m    333\u001b[0m \u001b[38;5;28;01mreturn\u001b[39;00m obj, parent\n",
      "\u001b[0;31mAttributeError\u001b[0m: Can't get attribute 'SBERTEncoder' on <module 'encoders'>"
     ]
    }
   ],
   "source": [
    "import sys, importlib, types, joblib\n",
    "# Map the old top-level name \"encoders\" to your repo module that defines the classes used at train time\n",
    "try:\n",
    "    # If your real code lives here, alias it:\n",
    "    enc_mod = importlib.import_module(\"micro_lm.core.mapper.encoders\")\n",
    "    sys.modules[\"encoders\"] = enc_mod\n",
    "except Exception:\n",
    "    # As a last resort, create a dummy module (only if the pickle doesn’t require actual classes)\n",
    "    sys.modules[\"encoders\"] = types.ModuleType(\"encoders\")\n",
    "\n",
    "M = joblib.load(MODEL)\n",
    "labels = getattr(M, \"classes_\", None) or getattr(M, \"labels_\", None) or (M.get(\"labels_\") if isinstance(M, dict) else None)\n",
    "print(\"labels:\", labels)\n"
   ]
  },
  {
   "cell_type": "code",
   "execution_count": 45,
   "id": "65ba79c7-1e8c-4cd3-b489-553d430b1001",
   "metadata": {},
   "outputs": [
    {
     "ename": "ModuleNotFoundError",
     "evalue": "No module named 'encoders'",
     "output_type": "error",
     "traceback": [
      "\u001b[0;31m---------------------------------------------------------------------------\u001b[0m",
      "\u001b[0;31mModuleNotFoundError\u001b[0m                       Traceback (most recent call last)",
      "Cell \u001b[0;32mIn[45], line 2\u001b[0m\n\u001b[1;32m      1\u001b[0m \u001b[38;5;28;01mimport\u001b[39;00m \u001b[38;5;21;01mjoblib\u001b[39;00m\n\u001b[0;32m----> 2\u001b[0m M \u001b[38;5;241m=\u001b[39m \u001b[43mjoblib\u001b[49m\u001b[38;5;241;43m.\u001b[39;49m\u001b[43mload\u001b[49m\u001b[43m(\u001b[49m\u001b[43mMODEL\u001b[49m\u001b[43m)\u001b[49m\n\u001b[1;32m      3\u001b[0m labels \u001b[38;5;241m=\u001b[39m \u001b[38;5;28mgetattr\u001b[39m(M, \u001b[38;5;124m\"\u001b[39m\u001b[38;5;124mclasses_\u001b[39m\u001b[38;5;124m\"\u001b[39m, \u001b[38;5;28;01mNone\u001b[39;00m) \u001b[38;5;129;01mor\u001b[39;00m \u001b[38;5;28mgetattr\u001b[39m(M, \u001b[38;5;124m\"\u001b[39m\u001b[38;5;124mlabels_\u001b[39m\u001b[38;5;124m\"\u001b[39m, \u001b[38;5;28;01mNone\u001b[39;00m) \u001b[38;5;129;01mor\u001b[39;00m (M\u001b[38;5;241m.\u001b[39mget(\u001b[38;5;124m\"\u001b[39m\u001b[38;5;124mlabels_\u001b[39m\u001b[38;5;124m\"\u001b[39m) \u001b[38;5;28;01mif\u001b[39;00m \u001b[38;5;28misinstance\u001b[39m(M, \u001b[38;5;28mdict\u001b[39m) \u001b[38;5;28;01melse\u001b[39;00m \u001b[38;5;28;01mNone\u001b[39;00m)\n\u001b[1;32m      4\u001b[0m \u001b[38;5;28mprint\u001b[39m(\u001b[38;5;124m\"\u001b[39m\u001b[38;5;124mlabels:\u001b[39m\u001b[38;5;124m\"\u001b[39m, labels)\n",
      "File \u001b[0;32m/Library/Frameworks/Python.framework/Versions/3.10/lib/python3.10/site-packages/joblib/numpy_pickle.py:749\u001b[0m, in \u001b[0;36mload\u001b[0;34m(filename, mmap_mode, ensure_native_byte_order)\u001b[0m\n\u001b[1;32m    744\u001b[0m                 \u001b[38;5;28;01mreturn\u001b[39;00m load_compatibility(fobj)\n\u001b[1;32m    746\u001b[0m             \u001b[38;5;66;03m# A memory-mapped array has to be mapped with the endianness\u001b[39;00m\n\u001b[1;32m    747\u001b[0m             \u001b[38;5;66;03m# it has been written with. Other arrays are coerced to the\u001b[39;00m\n\u001b[1;32m    748\u001b[0m             \u001b[38;5;66;03m# native endianness of the host system.\u001b[39;00m\n\u001b[0;32m--> 749\u001b[0m             obj \u001b[38;5;241m=\u001b[39m \u001b[43m_unpickle\u001b[49m\u001b[43m(\u001b[49m\n\u001b[1;32m    750\u001b[0m \u001b[43m                \u001b[49m\u001b[43mfobj\u001b[49m\u001b[43m,\u001b[49m\n\u001b[1;32m    751\u001b[0m \u001b[43m                \u001b[49m\u001b[43mensure_native_byte_order\u001b[49m\u001b[38;5;241;43m=\u001b[39;49m\u001b[43mensure_native_byte_order\u001b[49m\u001b[43m,\u001b[49m\n\u001b[1;32m    752\u001b[0m \u001b[43m                \u001b[49m\u001b[43mfilename\u001b[49m\u001b[38;5;241;43m=\u001b[39;49m\u001b[43mfilename\u001b[49m\u001b[43m,\u001b[49m\n\u001b[1;32m    753\u001b[0m \u001b[43m                \u001b[49m\u001b[43mmmap_mode\u001b[49m\u001b[38;5;241;43m=\u001b[39;49m\u001b[43mvalidated_mmap_mode\u001b[49m\u001b[43m,\u001b[49m\n\u001b[1;32m    754\u001b[0m \u001b[43m            \u001b[49m\u001b[43m)\u001b[49m\n\u001b[1;32m    756\u001b[0m \u001b[38;5;28;01mreturn\u001b[39;00m obj\n",
      "File \u001b[0;32m/Library/Frameworks/Python.framework/Versions/3.10/lib/python3.10/site-packages/joblib/numpy_pickle.py:626\u001b[0m, in \u001b[0;36m_unpickle\u001b[0;34m(fobj, ensure_native_byte_order, filename, mmap_mode)\u001b[0m\n\u001b[1;32m    624\u001b[0m obj \u001b[38;5;241m=\u001b[39m \u001b[38;5;28;01mNone\u001b[39;00m\n\u001b[1;32m    625\u001b[0m \u001b[38;5;28;01mtry\u001b[39;00m:\n\u001b[0;32m--> 626\u001b[0m     obj \u001b[38;5;241m=\u001b[39m \u001b[43munpickler\u001b[49m\u001b[38;5;241;43m.\u001b[39;49m\u001b[43mload\u001b[49m\u001b[43m(\u001b[49m\u001b[43m)\u001b[49m\n\u001b[1;32m    627\u001b[0m     \u001b[38;5;28;01mif\u001b[39;00m unpickler\u001b[38;5;241m.\u001b[39mcompat_mode:\n\u001b[1;32m    628\u001b[0m         warnings\u001b[38;5;241m.\u001b[39mwarn(\n\u001b[1;32m    629\u001b[0m             \u001b[38;5;124m\"\u001b[39m\u001b[38;5;124mThe file \u001b[39m\u001b[38;5;124m'\u001b[39m\u001b[38;5;132;01m%s\u001b[39;00m\u001b[38;5;124m'\u001b[39m\u001b[38;5;124m has been generated with a \u001b[39m\u001b[38;5;124m\"\u001b[39m\n\u001b[1;32m    630\u001b[0m             \u001b[38;5;124m\"\u001b[39m\u001b[38;5;124mjoblib version less than 0.10. \u001b[39m\u001b[38;5;124m\"\u001b[39m\n\u001b[0;32m   (...)\u001b[0m\n\u001b[1;32m    633\u001b[0m             stacklevel\u001b[38;5;241m=\u001b[39m\u001b[38;5;241m3\u001b[39m,\n\u001b[1;32m    634\u001b[0m         )\n",
      "File \u001b[0;32m/Library/Frameworks/Python.framework/Versions/3.10/lib/python3.10/pickle.py:1213\u001b[0m, in \u001b[0;36m_Unpickler.load\u001b[0;34m(self)\u001b[0m\n\u001b[1;32m   1211\u001b[0m             \u001b[38;5;28;01mraise\u001b[39;00m \u001b[38;5;167;01mEOFError\u001b[39;00m\n\u001b[1;32m   1212\u001b[0m         \u001b[38;5;28;01massert\u001b[39;00m \u001b[38;5;28misinstance\u001b[39m(key, bytes_types)\n\u001b[0;32m-> 1213\u001b[0m         \u001b[43mdispatch\u001b[49m\u001b[43m[\u001b[49m\u001b[43mkey\u001b[49m\u001b[43m[\u001b[49m\u001b[38;5;241;43m0\u001b[39;49m\u001b[43m]\u001b[49m\u001b[43m]\u001b[49m\u001b[43m(\u001b[49m\u001b[38;5;28;43mself\u001b[39;49m\u001b[43m)\u001b[49m\n\u001b[1;32m   1214\u001b[0m \u001b[38;5;28;01mexcept\u001b[39;00m _Stop \u001b[38;5;28;01mas\u001b[39;00m stopinst:\n\u001b[1;32m   1215\u001b[0m     \u001b[38;5;28;01mreturn\u001b[39;00m stopinst\u001b[38;5;241m.\u001b[39mvalue\n",
      "File \u001b[0;32m/Library/Frameworks/Python.framework/Versions/3.10/lib/python3.10/pickle.py:1538\u001b[0m, in \u001b[0;36m_Unpickler.load_stack_global\u001b[0;34m(self)\u001b[0m\n\u001b[1;32m   1536\u001b[0m \u001b[38;5;28;01mif\u001b[39;00m \u001b[38;5;28mtype\u001b[39m(name) \u001b[38;5;129;01mis\u001b[39;00m \u001b[38;5;129;01mnot\u001b[39;00m \u001b[38;5;28mstr\u001b[39m \u001b[38;5;129;01mor\u001b[39;00m \u001b[38;5;28mtype\u001b[39m(module) \u001b[38;5;129;01mis\u001b[39;00m \u001b[38;5;129;01mnot\u001b[39;00m \u001b[38;5;28mstr\u001b[39m:\n\u001b[1;32m   1537\u001b[0m     \u001b[38;5;28;01mraise\u001b[39;00m UnpicklingError(\u001b[38;5;124m\"\u001b[39m\u001b[38;5;124mSTACK_GLOBAL requires str\u001b[39m\u001b[38;5;124m\"\u001b[39m)\n\u001b[0;32m-> 1538\u001b[0m \u001b[38;5;28mself\u001b[39m\u001b[38;5;241m.\u001b[39mappend(\u001b[38;5;28;43mself\u001b[39;49m\u001b[38;5;241;43m.\u001b[39;49m\u001b[43mfind_class\u001b[49m\u001b[43m(\u001b[49m\u001b[43mmodule\u001b[49m\u001b[43m,\u001b[49m\u001b[43m \u001b[49m\u001b[43mname\u001b[49m\u001b[43m)\u001b[49m)\n",
      "File \u001b[0;32m/Library/Frameworks/Python.framework/Versions/3.10/lib/python3.10/pickle.py:1580\u001b[0m, in \u001b[0;36m_Unpickler.find_class\u001b[0;34m(self, module, name)\u001b[0m\n\u001b[1;32m   1578\u001b[0m     \u001b[38;5;28;01melif\u001b[39;00m module \u001b[38;5;129;01min\u001b[39;00m _compat_pickle\u001b[38;5;241m.\u001b[39mIMPORT_MAPPING:\n\u001b[1;32m   1579\u001b[0m         module \u001b[38;5;241m=\u001b[39m _compat_pickle\u001b[38;5;241m.\u001b[39mIMPORT_MAPPING[module]\n\u001b[0;32m-> 1580\u001b[0m \u001b[38;5;28;43m__import__\u001b[39;49m\u001b[43m(\u001b[49m\u001b[43mmodule\u001b[49m\u001b[43m,\u001b[49m\u001b[43m \u001b[49m\u001b[43mlevel\u001b[49m\u001b[38;5;241;43m=\u001b[39;49m\u001b[38;5;241;43m0\u001b[39;49m\u001b[43m)\u001b[49m\n\u001b[1;32m   1581\u001b[0m \u001b[38;5;28;01mif\u001b[39;00m \u001b[38;5;28mself\u001b[39m\u001b[38;5;241m.\u001b[39mproto \u001b[38;5;241m>\u001b[39m\u001b[38;5;241m=\u001b[39m \u001b[38;5;241m4\u001b[39m:\n\u001b[1;32m   1582\u001b[0m     \u001b[38;5;28;01mreturn\u001b[39;00m _getattribute(sys\u001b[38;5;241m.\u001b[39mmodules[module], name)[\u001b[38;5;241m0\u001b[39m]\n",
      "\u001b[0;31mModuleNotFoundError\u001b[0m: No module named 'encoders'"
     ]
    }
   ],
   "source": [
    "import joblib\n",
    "M = joblib.load(MODEL)\n",
    "labels = getattr(M, \"classes_\", None) or getattr(M, \"labels_\", None) or (M.get(\"labels_\") if isinstance(M, dict) else None)\n",
    "print(\"labels:\", labels)"
   ]
  },
  {
   "cell_type": "code",
   "execution_count": 38,
   "id": "ab97799f-8693-4dae-8e05-69b175a70451",
   "metadata": {},
   "outputs": [],
   "source": [
    "def read_prompts_jsonl(fp: Path) -> List[str]:\n",
    "    rows=[]\n",
    "    with fp.open() as f:\n",
    "        for line in f:\n",
    "            J=json.loads(line)\n",
    "            rows.append(J[\"prompt\"] if isinstance(J, dict) and \"prompt\" in J else line.strip())\n",
    "    return rows\n",
    "\n",
    "def read_labels_csv(fp: Path) -> List[str]:\n",
    "    out=[]\n",
    "    with fp.open() as f:\n",
    "        R=csv.DictReader(f)\n",
    "        for r in R:\n",
    "            out.append(r[\"label\"])\n",
    "    return out\n",
    "\n",
    "def run(args: argparse.Namespace) -> int:\n",
    "    out_dir = Path(args.out_dir or \".artifacts/defi/mapper_bench\")\n",
    "    out_dir.mkdir(parents=True, exist_ok=True)\n",
    "    prompts = read_prompts_jsonl(Path(args.prompts_jsonl))\n",
    "    gold    = read_labels_csv(Path(args.labels_csv))\n",
    "\n",
    "    thr = 0.5\n",
    "    backend = load_backend(args.backend, confidence_threshold=thr, model_path=args.model_path)\n",
    "\n",
    "    sub_prompts = prompts[0:10]\n",
    "    preds = backend.predict(sub_prompts)\n",
    "    print(preds)\n",
    "\n",
    "def get_args():\n",
    "    ap = argparse.ArgumentParser()\n",
    "    ap.add_argument(\"--backend\",       default=\"wordmap\", help=\"wordmap|sbert\")\n",
    "    ap.add_argument(\"--model_path\",    default=\".artifacts/defi_mapper.joblib\")\n",
    "    ap.add_argument(\"--prompts_jsonl\", default=\"tests/fixtures/defi/mapper_smoke_prompts.jsonl\")\n",
    "    ap.add_argument(\"--labels_csv\",    default=\"tests/fixtures/defi/mapper_smoke_labels.csv\")\n",
    "    ap.add_argument(\"--thresholds\",    default=\"0.3,0.35,0.4,0.7\")\n",
    "    ap.add_argument(\"--out_dir\",       default=\"\")\n",
    "    ap.add_argument(\"--min_overall_acc\", default=None)\n",
    "    \n",
    "    notebook_args = [\n",
    "        \"--backend\", \"sbert\",\n",
    "        \"--model_path\", \".artifacts/defi_mapper.joblib\",\n",
    "        \"--prompts_jsonl\", \"tests/fixtures/defi/defi_mapper_5k_prompts.jsonl\",\n",
    "        \"--labels_csv\", \"tests/fixtures/defi/defi_mapper_labeled_5k.csv\",\n",
    "        \"--thresholds\", \"0.5,0.55,0.6,0.65,0.7\",\n",
    "        \"--min_overall_acc\", \"0.75\",\n",
    "        \"--out_dir\", \".artifacts/defi/mapper_bench\",\n",
    "    ]\n",
    "    \n",
    "    return ap.parse_args(notebook_args)"
   ]
  },
  {
   "cell_type": "code",
   "execution_count": 32,
   "id": "eebc5ea0-3928-40ba-a488-241cf257284c",
   "metadata": {},
   "outputs": [
    {
     "name": "stdout",
     "output_type": "stream",
     "text": [
      "[mapper] backend= sbert kwargs= {'confidence_threshold': 0.5, 'model_path': '.artifacts/defi_mapper.joblib'}\n",
      "[(None, 0.0), (None, 0.0), (None, 0.0), (None, 0.0), (None, 0.0), (None, 0.0), (None, 0.0), (None, 0.0), (None, 0.0), (None, 0.0)]\n"
     ]
    }
   ],
   "source": [
    "args = get_args()\n",
    "run(args)"
   ]
  },
  {
   "cell_type": "code",
   "execution_count": 20,
   "id": "bfd7b6bc-ceca-41f0-a72d-35c5c3bee859",
   "metadata": {},
   "outputs": [
    {
     "name": "stdout",
     "output_type": "stream",
     "text": [
      "[mapper] backend= sbert kwargs= {'confidence_threshold': 0.5, 'model_path': '.artifacts/defi_mapper.joblib'}\n",
      "[(None, 0.0), (None, 0.0), (None, 0.0), (None, 0.0), (None, 0.0), (None, 0.0), (None, 0.0), (None, 0.0), (None, 0.0), (None, 0.0)]\n"
     ]
    }
   ],
   "source": [
    "out_dir = Path(args.out_dir or \".artifacts/defi/mapper_bench\")\n",
    "out_dir.mkdir(parents=True, exist_ok=True)\n",
    "prompts = read_prompts_jsonl(Path(args.prompts_jsonl))\n",
    "gold    = read_labels_csv(Path(args.labels_csv))\n",
    "\n",
    "thr = 0.5\n",
    "backend = load_backend(args.backend, confidence_threshold=thr, model_path=args.model_path)\n",
    "\n",
    "sub_prompts = prompts[0:10]\n",
    "preds = backend.predict(sub_prompts)\n",
    "print(preds)"
   ]
  },
  {
   "cell_type": "code",
   "execution_count": null,
   "id": "f5e8e35a-4391-42a7-8da5-2afab8f44872",
   "metadata": {},
   "outputs": [],
   "source": [
    "\n"
   ]
  },
  {
   "cell_type": "code",
   "execution_count": null,
   "id": "9be72c7c-5d63-4e4b-ab26-c2afd5e64e6e",
   "metadata": {},
   "outputs": [],
   "source": []
  }
 ],
 "metadata": {
  "kernelspec": {
   "display_name": "Python 3 (ipykernel)",
   "language": "python",
   "name": "python3"
  },
  "language_info": {
   "codemirror_mode": {
    "name": "ipython",
    "version": 3
   },
   "file_extension": ".py",
   "mimetype": "text/x-python",
   "name": "python",
   "nbconvert_exporter": "python",
   "pygments_lexer": "ipython3",
   "version": "3.10.0rc2"
  }
 },
 "nbformat": 4,
 "nbformat_minor": 5
}
