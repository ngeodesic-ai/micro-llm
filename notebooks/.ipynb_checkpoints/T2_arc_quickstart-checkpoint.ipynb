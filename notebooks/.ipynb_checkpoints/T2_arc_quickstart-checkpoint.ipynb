{
 "cells": [
  {
   "cell_type": "code",
   "execution_count": 16,
   "id": "9904ca3a-1b3e-4912-a2d2-d95e231f1884",
   "metadata": {},
   "outputs": [],
   "source": [
    "import os\n",
    "cwd =  os.getcwd().replace(\"notebooks/research\",\"\")\n",
    "os.chdir(cwd)"
   ]
  },
  {
   "cell_type": "code",
   "execution_count": 17,
   "id": "739dd57a-6ddf-43cd-b33a-64f96c73df45",
   "metadata": {},
   "outputs": [
    {
     "name": "stdout",
     "output_type": "stream",
     "text": [
      "Repo root: /Users/ian_moore/repos/micro-lm\n",
      "Using src: /Users/ian_moore/repos/micro-lm/src\n",
      "micro_lm loaded from: /Users/ian_moore/repos/micro-lm/src/micro_lm/__init__.py\n",
      "run_arc loaded OK from src.\n"
     ]
    }
   ],
   "source": [
    "import os, sys, pathlib, importlib, glob\n",
    "\n",
    "# 1) Point to repo root and src/\n",
    "ROOT = pathlib.Path.cwd()\n",
    "if not (ROOT / \"src\" / \"micro_lm\").exists():\n",
    "    for _ in range(6):\n",
    "        ROOT = ROOT.parent\n",
    "        if (ROOT / \"src\" / \"micro_lm\").exists():\n",
    "            break\n",
    "SRC = ROOT / \"src\"\n",
    "print(\"Repo root:\", ROOT)\n",
    "print(\"Using src:\", SRC)\n",
    "\n",
    "# 2) Ensure src/ is first on sys.path\n",
    "if str(SRC) in sys.path:\n",
    "    sys.path.remove(str(SRC))\n",
    "sys.path.insert(0, str(SRC))\n",
    "\n",
    "# 3) Make sure packages are *real* packages (create __init__.py if missing)\n",
    "PKG = SRC / \"micro_lm\"\n",
    "CLI = PKG / \"interfaces\"\n",
    "for p in (PKG, CLI):\n",
    "    if p.exists() and not (p / \"__init__.py\").exists():\n",
    "        (p / \"__init__.py\").write_text(\"\")  # minimal package\n",
    "        print(\"Created:\", p / \"__init__.py\")\n",
    "\n",
    "# 4) Purge any previously-imported installed micro_lm modules\n",
    "for k in list(sys.modules.keys()):\n",
    "    if k == \"micro_lm\" or k.startswith(\"micro_lm.\"):\n",
    "        del sys.modules[k]\n",
    "importlib.invalidate_caches()\n",
    "\n",
    "# 5) Import micro_lm *from src* and then the CLI module\n",
    "import micro_lm\n",
    "print(\"micro_lm loaded from:\", micro_lm.__file__)\n",
    "\n",
    "#from micro_lm.cli.defi_quickstart import quickstart\n",
    "from micro_lm.interfaces.arc_prompt import run_arc\n",
    "print(\"run_arc loaded OK from src.\")\n"
   ]
  },
  {
   "cell_type": "code",
   "execution_count": 18,
   "id": "9cca221f-c036-446d-9e02-cd66c319b471",
   "metadata": {},
   "outputs": [],
   "source": [
    "import os\n",
    "os.environ[\"ARC_MAPPER_PATH\"] = \".artifacts/arc_mapper.joblib\"  # <-- update this"
   ]
  },
  {
   "cell_type": "code",
   "execution_count": 19,
   "id": "4129a549-389d-456f-ac3e-245622b6ddd6",
   "metadata": {},
   "outputs": [
    {
     "ename": "FileNotFoundError",
     "evalue": "[Errno 2] No such file or directory: '.artifacts/arc_mapper.joblib'",
     "output_type": "error",
     "traceback": [
      "\u001b[0;31m---------------------------------------------------------------------------\u001b[0m",
      "\u001b[0;31mFileNotFoundError\u001b[0m                         Traceback (most recent call last)",
      "Cell \u001b[0;32mIn[19], line 9\u001b[0m\n\u001b[1;32m      6\u001b[0m grid   \u001b[38;5;241m=\u001b[39m [[\u001b[38;5;241m3\u001b[39m,\u001b[38;5;241m0\u001b[39m,\u001b[38;5;241m1\u001b[39m,\u001b[38;5;241m2\u001b[39m],[\u001b[38;5;241m3\u001b[39m,\u001b[38;5;241m2\u001b[39m,\u001b[38;5;241m1\u001b[39m,\u001b[38;5;241m0\u001b[39m],[\u001b[38;5;241m3\u001b[39m,\u001b[38;5;241m2\u001b[39m,\u001b[38;5;241m0\u001b[39m,\u001b[38;5;241m5\u001b[39m],[\u001b[38;5;241m6\u001b[39m,\u001b[38;5;241m1\u001b[39m,\u001b[38;5;241m4\u001b[39m,\u001b[38;5;241m2\u001b[39m]]  \u001b[38;5;66;03m# or a numpy array\u001b[39;00m\n\u001b[1;32m      7\u001b[0m policy \u001b[38;5;241m=\u001b[39m {\u001b[38;5;124m\"\u001b[39m\u001b[38;5;124maudit\u001b[39m\u001b[38;5;124m\"\u001b[39m:{\u001b[38;5;124m\"\u001b[39m\u001b[38;5;124mmode\u001b[39m\u001b[38;5;124m\"\u001b[39m:\u001b[38;5;124m\"\u001b[39m\u001b[38;5;124mfamily\u001b[39m\u001b[38;5;124m\"\u001b[39m}}                \u001b[38;5;66;03m# \"detector\" or \"passthrough\" also fine\u001b[39;00m\n\u001b[0;32m----> 9\u001b[0m out \u001b[38;5;241m=\u001b[39m \u001b[43mrun_arc\u001b[49m\u001b[43m(\u001b[49m\u001b[43mprompt\u001b[49m\u001b[43m,\u001b[49m\u001b[43m \u001b[49m\u001b[43mgrid\u001b[49m\u001b[43m,\u001b[49m\u001b[43m \u001b[49m\u001b[43mpolicy\u001b[49m\u001b[38;5;241;43m=\u001b[39;49m\u001b[43mpolicy\u001b[49m\u001b[43m,\u001b[49m\u001b[43m \u001b[49m\u001b[43msequence\u001b[49m\u001b[38;5;241;43m=\u001b[39;49m\u001b[38;5;28;43;01mNone\u001b[39;49;00m\u001b[43m,\u001b[49m\u001b[43m \u001b[49m\u001b[43mdebug\u001b[49m\u001b[38;5;241;43m=\u001b[39;49m\u001b[38;5;28;43;01mFalse\u001b[39;49;00m\u001b[43m)\u001b[49m\n\u001b[1;32m     11\u001b[0m plan \u001b[38;5;241m=\u001b[39m out\u001b[38;5;241m.\u001b[39mget(\u001b[38;5;124m\"\u001b[39m\u001b[38;5;124mplan\u001b[39m\u001b[38;5;124m\"\u001b[39m, {})\n\u001b[1;32m     12\u001b[0m \u001b[38;5;28mprint\u001b[39m(\u001b[38;5;124m\"\u001b[39m\u001b[38;5;124msequence:\u001b[39m\u001b[38;5;124m\"\u001b[39m, plan\u001b[38;5;241m.\u001b[39mget(\u001b[38;5;124m\"\u001b[39m\u001b[38;5;124msequence\u001b[39m\u001b[38;5;124m\"\u001b[39m))\n",
      "File \u001b[0;32m~/repos/micro-lm/src/micro_lm/interfaces/arc_prompt.py:179\u001b[0m, in \u001b[0;36mrun_arc\u001b[0;34m(prompt, grid, policy, context, rails, T, use_wdd, profile, verbose, sequence, debug)\u001b[0m\n\u001b[1;32m    176\u001b[0m     grid_np \u001b[38;5;241m=\u001b[39m np\u001b[38;5;241m.\u001b[39masarray(grid, dtype\u001b[38;5;241m=\u001b[39m\u001b[38;5;28mint\u001b[39m)\n\u001b[1;32m    178\u001b[0m \u001b[38;5;66;03m# 2) get mapper sequence, but let CLI override if provided\u001b[39;00m\n\u001b[0;32m--> 179\u001b[0m mapper \u001b[38;5;241m=\u001b[39m \u001b[43m_get_arc_mapper\u001b[49m\u001b[43m(\u001b[49m\u001b[43m)\u001b[49m\n\u001b[1;32m    180\u001b[0m cand_seq \u001b[38;5;241m=\u001b[39m \u001b[38;5;28mlist\u001b[39m(sequence) \u001b[38;5;28;01mif\u001b[39;00m sequence \u001b[38;5;28;01melse\u001b[39;00m mapper\u001b[38;5;241m.\u001b[39mpredict(prompt)\n\u001b[1;32m    181\u001b[0m cand_seq \u001b[38;5;241m=\u001b[39m [_canon_primitive(s) \u001b[38;5;28;01mfor\u001b[39;00m s \u001b[38;5;129;01min\u001b[39;00m cand_seq]\n",
      "File \u001b[0;32m~/repos/micro-lm/src/micro_lm/interfaces/arc_prompt.py:71\u001b[0m, in \u001b[0;36m_get_arc_mapper\u001b[0;34m()\u001b[0m\n\u001b[1;32m     69\u001b[0m \u001b[38;5;28;01mif\u001b[39;00m _arc_mapper \u001b[38;5;129;01mis\u001b[39;00m \u001b[38;5;28;01mNone\u001b[39;00m:\n\u001b[1;32m     70\u001b[0m     _ensure_sbert_in_main()          \u001b[38;5;66;03m# <-- add this line\u001b[39;00m\n\u001b[0;32m---> 71\u001b[0m     _arc_mapper \u001b[38;5;241m=\u001b[39m \u001b[43mjoblib\u001b[49m\u001b[38;5;241;43m.\u001b[39;49m\u001b[43mload\u001b[49m\u001b[43m(\u001b[49m\u001b[43mARC_MAPPER_PATH\u001b[49m\u001b[43m)\u001b[49m\n\u001b[1;32m     72\u001b[0m \u001b[38;5;28;01mreturn\u001b[39;00m _arc_mapper\n",
      "File \u001b[0;32m/Library/Frameworks/Python.framework/Versions/3.10/lib/python3.10/site-packages/joblib/numpy_pickle.py:735\u001b[0m, in \u001b[0;36mload\u001b[0;34m(filename, mmap_mode, ensure_native_byte_order)\u001b[0m\n\u001b[1;32m    733\u001b[0m         obj \u001b[38;5;241m=\u001b[39m _unpickle(fobj, ensure_native_byte_order\u001b[38;5;241m=\u001b[39mensure_native_byte_order)\n\u001b[1;32m    734\u001b[0m \u001b[38;5;28;01melse\u001b[39;00m:\n\u001b[0;32m--> 735\u001b[0m     \u001b[38;5;28;01mwith\u001b[39;00m \u001b[38;5;28;43mopen\u001b[39;49m\u001b[43m(\u001b[49m\u001b[43mfilename\u001b[49m\u001b[43m,\u001b[49m\u001b[43m \u001b[49m\u001b[38;5;124;43m\"\u001b[39;49m\u001b[38;5;124;43mrb\u001b[39;49m\u001b[38;5;124;43m\"\u001b[39;49m\u001b[43m)\u001b[49m \u001b[38;5;28;01mas\u001b[39;00m f:\n\u001b[1;32m    736\u001b[0m         \u001b[38;5;28;01mwith\u001b[39;00m _validate_fileobject_and_memmap(f, filename, mmap_mode) \u001b[38;5;28;01mas\u001b[39;00m (\n\u001b[1;32m    737\u001b[0m             fobj,\n\u001b[1;32m    738\u001b[0m             validated_mmap_mode,\n\u001b[1;32m    739\u001b[0m         ):\n\u001b[1;32m    740\u001b[0m             \u001b[38;5;28;01mif\u001b[39;00m \u001b[38;5;28misinstance\u001b[39m(fobj, \u001b[38;5;28mstr\u001b[39m):\n\u001b[1;32m    741\u001b[0m                 \u001b[38;5;66;03m# if the returned file object is a string, this means we\u001b[39;00m\n\u001b[1;32m    742\u001b[0m                 \u001b[38;5;66;03m# try to load a pickle file generated with an version of\u001b[39;00m\n\u001b[1;32m    743\u001b[0m                 \u001b[38;5;66;03m# Joblib so we load it with joblib compatibility function.\u001b[39;00m\n",
      "\u001b[0;31mFileNotFoundError\u001b[0m: [Errno 2] No such file or directory: '.artifacts/arc_mapper.joblib'"
     ]
    }
   ],
   "source": [
    "# ARC one-cell quickstart (mirror of arc_quickstart.py)\n",
    "from micro_lm.interfaces.arc_prompt import run_arc\n",
    "import numpy as np, json\n",
    "\n",
    "prompt = \"flip the grid horizontally then rotate it\"\n",
    "grid   = [[3,0,1,2],[3,2,1,0],[3,2,0,5],[6,1,4,2]]  # or a numpy array\n",
    "policy = {\"audit\":{\"mode\":\"family\"}}                # \"detector\" or \"passthrough\" also fine\n",
    "\n",
    "out = run_arc(prompt, grid, policy=policy, sequence=None, debug=False)\n",
    "\n",
    "plan = out.get(\"plan\", {})\n",
    "print(\"sequence:\", plan.get(\"sequence\"))\n",
    "print(\"verify  :\", out.get(\"verify\"))\n",
    "print(\"keep    :\", (out.get(\"wdd_summary\") or {}).get(\"keep\"))\n",
    "print(\"order   :\", (out.get(\"wdd_summary\") or {}).get(\"order\"))\n"
   ]
  }
 ],
 "metadata": {
  "kernelspec": {
   "display_name": "Python 3 (ipykernel)",
   "language": "python",
   "name": "python3"
  },
  "language_info": {
   "codemirror_mode": {
    "name": "ipython",
    "version": 3
   },
   "file_extension": ".py",
   "mimetype": "text/x-python",
   "name": "python",
   "nbconvert_exporter": "python",
   "pygments_lexer": "ipython3",
   "version": "3.10.0rc2"
  }
 },
 "nbformat": 4,
 "nbformat_minor": 5
}
