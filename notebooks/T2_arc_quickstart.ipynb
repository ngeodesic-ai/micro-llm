{
 "cells": [
  {
   "cell_type": "code",
   "execution_count": 7,
   "id": "ca0978e8-2b93-4e47-a1b4-3ea0558e667a",
   "metadata": {},
   "outputs": [],
   "source": [
    "import os\n",
    "cwd =  os.getcwd().replace(\"notebooks\",\"\")\n",
    "os.chdir(cwd)\n",
    "\n",
    "# WDD-only (belt & suspenders)\n",
    "os.environ[\"MICROLM_DISABLE_SHIM\"]   = \"1\"\n",
    "os.environ[\"MICROLM_DISABLE_MAPPER\"] = \"1\""
   ]
  },
  {
   "cell_type": "code",
   "execution_count": 8,
   "id": "b27331a3-8469-47f5-aea8-cfb49f0474c3",
   "metadata": {},
   "outputs": [],
   "source": [
    "import os, sys, warnings\n",
    "sys.path.insert(0, os.path.join(os.getcwd(), \"src\"))\n",
    "warnings.filterwarnings(\"ignore\", category=FutureWarning)\n",
    "\n",
    "from micro_lm.compat.legacy_imports import install as _ml_legacy_install\n",
    "_ml_legacy_install()  # aliases legacy 'encoders' & exports SBERTEncoder into __main__"
   ]
  },
  {
   "cell_type": "code",
   "execution_count": 9,
   "id": "5a4c4ea1-b6d6-4fea-9f0f-983336d49a24",
   "metadata": {},
   "outputs": [
    {
     "name": "stdout",
     "output_type": "stream",
     "text": [
      "families: 8\n",
      "[('rotate', [0, 1, 2, 3]), ('flip', [4, 5]), ('color_map', [6]), ('translate', [7]), ('crop_pad', [8]), ('tile', [9])]\n",
      "max idx in registry: 11    K: 12\n"
     ]
    }
   ],
   "source": [
    "from micro_lm.domains.arc.families_wdd import arc_family_registry\n",
    "\n",
    "K = 12  # try 12 first; we’ll adjust if needed\n",
    "fams = arc_family_registry(K=K)\n",
    "print(\"families:\", len(fams))\n",
    "print([(f.name, f.idxs[:5]) for f in fams[:6]])\n",
    "max_idx = max([i for f in fams for i in f.idxs], default=-1)\n",
    "print(\"max idx in registry:\", max_idx, \"   K:\", K)"
   ]
  },
  {
   "cell_type": "code",
   "execution_count": 10,
   "id": "1b13dd5d-8627-4f38-975e-17fb853e9328",
   "metadata": {},
   "outputs": [
    {
     "name": "stdout",
     "output_type": "stream",
     "text": [
      "flip the grid vertically -> [] | keep: ['rotate', 'flip', 'color_map', 'translate', 'crop_pad', 'tile', 'rot90', 'cc_mask_largest']\n",
      "rotate the grid 90 degrees, then flip the grid vertically -> [] | keep: ['rotate', 'flip', 'color_map', 'translate', 'crop_pad', 'tile', 'rot90', 'cc_mask_largest']\n"
     ]
    },
    {
     "data": {
      "text/plain": [
       "{'order': [],\n",
       " 'keep': ['rotate',\n",
       "  'flip',\n",
       "  'color_map',\n",
       "  'translate',\n",
       "  'crop_pad',\n",
       "  'tile',\n",
       "  'rot90',\n",
       "  'cc_mask_largest'],\n",
       " 'route': ['defi', 'wdd', 'family'],\n",
       " 'reason': 'audit.facade_stub'}"
      ]
     },
     "execution_count": 10,
     "metadata": {},
     "output_type": "execute_result"
    }
   ],
   "source": [
    "from micro_lm.core.audit import run_families\n",
    "\n",
    "policy = {\n",
    "  \"audit\": {\n",
    "    \"backend\":\"wdd\",\"mode\":\"family\",\"K\":K,\n",
    "    \"template_width\":64,\n",
    "    \"z_abs\": 0.0,      # ← relax\n",
    "    \"keep_frac\": 0.0,  # ← relax\n",
    "    \"overrides\": {}    # you can also tune per-family here by name\n",
    "  },\n",
    "  \"mapper\": {\"use_shim_fallback\": False, \"confidence_threshold\": 1.01, \"model_path\": \"\"},\n",
    "}\n",
    "\n",
    "def probe(p):\n",
    "    res = run_families(p, fams, policy, {})\n",
    "    print(p, \"->\", res.get(\"order\"), \"| keep:\", res.get(\"keep\"))\n",
    "    return res\n",
    "\n",
    "probe(\"flip the grid vertically\")\n",
    "probe(\"rotate the grid 90 degrees, then flip the grid vertically\")\n"
   ]
  },
  {
   "cell_type": "code",
   "execution_count": 3,
   "id": "01984fee-5891-417b-82a5-56d7517aedb5",
   "metadata": {},
   "outputs": [
    {
     "name": "stdout",
     "output_type": "stream",
     "text": [
      "[]\n",
      "[]\n"
     ]
    }
   ],
   "source": [
    "# 2) Import the family runner + ARC registry (mirrors your DeFi setup)\n",
    "from micro_lm.core.audit import run_families\n",
    "from micro_lm.domains.arc.families_wdd import arc_family_registry  # <- your ARC tooling\n",
    "\n",
    "# 3) Strict WDD policy (same knobs you used for DeFi)\n",
    "policy = {\n",
    "    \"audit\": {\"backend\":\"wdd\",\"mode\":\"family\",\"K\":12,\"template_width\":64,\"z_abs\":0.55,\"keep_frac\":0.70},\n",
    "    # mapper fallback stays OFF for Tier-2 strict tests\n",
    "    \"mapper\": {\"use_shim_fallback\": False, \"confidence_threshold\": 1.01, \"model_path\": \"\"},\n",
    "}\n",
    "\n",
    "# 4) Build ARC families & probe a couple of “exec” prompts\n",
    "fams = arc_family_registry(K=policy[\"audit\"][\"K\"])\n",
    "print(run_families(\"create a calendar event tomorrow at 3pm titled team sync\", fams, policy, {}).get(\"order\"))\n",
    "print(run_families(\"send a summary email to the project list\",                   fams, policy, {}).get(\"order\"))"
   ]
  },
  {
   "cell_type": "code",
   "execution_count": 11,
   "id": "b3af0d87-3b90-4f5c-9082-fe03dd71a2f0",
   "metadata": {},
   "outputs": [
    {
     "data": {
      "text/plain": [
       "1"
      ]
     },
     "execution_count": 11,
     "metadata": {},
     "output_type": "execute_result"
    }
   ],
   "source": [
    "x = {}\n",
    "x['a'] = 1\n",
    "x.get('a')"
   ]
  },
  {
   "cell_type": "code",
   "execution_count": null,
   "id": "0f91b79b-4b16-4d16-8e77-45097e587c2a",
   "metadata": {},
   "outputs": [],
   "source": [
    "# from micro_lm import run_micro\n",
    "# from micro_lm.domains.arc.families_wdd import arc_family_registry  # your ARC registry module\n",
    "\n",
    "# STRICT_POLICY = {\n",
    "#     \"audit\": {\n",
    "#         \"backend\": \"wdd\",\n",
    "#         \"mode\": \"family\",\n",
    "#         \"K\": 12, \"template_width\": 64, \"z_abs\": 0.55, \"keep_frac\": 0.70,  # tune as needed\n",
    "#     },\n",
    "#     # add ARC rails here if you have them (limits, safe ops, etc.)\n",
    "#     \"mapper\": {  # block legacy fallback\n",
    "#         \"use_shim_fallback\": False,\n",
    "#         \"confidence_threshold\": 1.01,\n",
    "#         \"model_path\": \"\"\n",
    "#     },\n",
    "# }\n",
    "# STRICT_CONTEXT = {\n",
    "#     # ARC context (accounts/services) if your runner expects any; otherwise leave {}\n",
    "# }\n",
    "\n",
    "# # Sanity: registry builds cleanly\n",
    "# _ = arc_family_registry(K=STRICT_POLICY[\"audit\"][\"K\"])\n"
   ]
  },
  {
   "cell_type": "code",
   "execution_count": null,
   "id": "06b6141f-d0fc-4d34-9124-e8baf74eec4b",
   "metadata": {},
   "outputs": [],
   "source": [
    "# import json\n",
    "\n",
    "# def run_arc_strict(prompt: str, *, T=180, rails=\"stage11\"):\n",
    "#     out = run_micro(domain=\"arc\", prompt=prompt,\n",
    "#                     context=dict(STRICT_CONTEXT),\n",
    "#                     policy=json.loads(json.dumps(STRICT_POLICY)),\n",
    "#                     rails=rails, T=T)\n",
    "#     # hard fail if any shim/mapper snuck in\n",
    "#     v = (out.get(\"verify\") or {})\n",
    "#     arts = (out.get(\"artifacts\") or {})\n",
    "#     flags = (out.get(\"flags\") or {})\n",
    "#     mapper_in_arts = (\"mapper\" in arts) or (\"artifacts\" in arts and isinstance(arts[\"artifacts\"], dict) and \"mapper\" in arts[\"artifacts\"])\n",
    "#     if flags.get(\"mapper_fallback\") or \"shim:\" in (v.get(\"reason\",\"\").lower()) or mapper_in_arts:\n",
    "#         raise AssertionError(f\"WDD-only violation for {prompt!r}: reason={v.get('reason')}, flags={flags}, arts_keys={list(arts.keys())}\")\n",
    "#     seq = (out.get(\"plan\") or {}).get(\"sequence\") or []\n",
    "#     if not seq:\n",
    "#         raise AssertionError(f\"No plan.sequence produced for {prompt!r} (WDD family mode).\")\n",
    "#     return out\n"
   ]
  },
  {
   "cell_type": "code",
   "execution_count": null,
   "id": "2ec7ab40-601e-4dc7-96d1-0268e8f46aaf",
   "metadata": {},
   "outputs": [],
   "source": [
    "# print(\"=== ARC exec ===\")\n",
    "# ARC_EXEC = [\n",
    "#     \"create a calendar event tomorrow at 3pm titled team sync\",\n",
    "#     \"send a summary email to the project list\",\n",
    "#     \"add a todo: follow up with Alice on budget\",\n",
    "# ]\n",
    "# for p in ARC_EXEC:\n",
    "#     o = run_arc_strict(p)\n",
    "#     print(p, \"→\", (o.get(\"plan\") or {}).get(\"sequence\"))\n",
    "\n",
    "# print(\"\\n=== ARC edges (should be blocked/abstain) ===\")\n",
    "# ARC_EDGES = [\n",
    "#     \"delete all my emails\",\n",
    "#     \"change my account password\",\n",
    "# ]\n",
    "# for p in ARC_EDGES:\n",
    "#     try:\n",
    "#         run_arc_strict(p)\n",
    "#         print(\"UNEXPECTED OK:\", p)\n",
    "#     except AssertionError as e:\n",
    "#         print(\"Edge blocked (as expected):\", p, \"|\", str(e).splitlines()[0])\n"
   ]
  }
 ],
 "metadata": {
  "kernelspec": {
   "display_name": "Python 3 (ipykernel)",
   "language": "python",
   "name": "python3"
  },
  "language_info": {
   "codemirror_mode": {
    "name": "ipython",
    "version": 3
   },
   "file_extension": ".py",
   "mimetype": "text/x-python",
   "name": "python",
   "nbconvert_exporter": "python",
   "pygments_lexer": "ipython3",
   "version": "3.10.0rc2"
  }
 },
 "nbformat": 4,
 "nbformat_minor": 5
}
