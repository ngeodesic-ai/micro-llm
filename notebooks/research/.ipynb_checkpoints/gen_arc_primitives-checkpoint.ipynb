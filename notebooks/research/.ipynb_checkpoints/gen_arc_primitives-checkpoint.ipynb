{
 "cells": [
  {
   "cell_type": "code",
   "execution_count": 1,
   "id": "ff1ef745-e9b4-44d2-ba42-50c635c11053",
   "metadata": {},
   "outputs": [],
   "source": [
    "import os\n",
    "cwd =  os.getcwd().replace(\"notebooks/research\",\"\")\n",
    "os.chdir(cwd)"
   ]
  },
  {
   "cell_type": "code",
   "execution_count": 5,
   "id": "332cf487-20c2-4b97-9a1d-7e580ba14acd",
   "metadata": {},
   "outputs": [],
   "source": [
    "import json, ast\n",
    "import numpy as np\n",
    "\n",
    "def flip_h(grid):\n",
    "    g = np.asarray(grid)\n",
    "    return np.fliplr(g)\n",
    "\n",
    "def flip_v(grid):\n",
    "    g = np.asarray(grid)\n",
    "    return np.flipud(g)\n",
    "\n",
    "def rot90(grid, k=1, direction=\"cw\"):\n",
    "    g = np.asarray(grid)\n",
    "    if direction.lower() == \"cw\":\n",
    "        return np.rot90(g, k=(4 - (k % 4)) % 4)\n",
    "    else:\n",
    "        return np.rot90(g, k=(k % 4))\n",
    "\n",
    "def rotate(grid, degrees=90, direction=\"cw\"):\n",
    "    deg = ((degrees % 360) + 360) % 360\n",
    "    if deg == 0:\n",
    "        return np.asarray(grid).copy()\n",
    "    if deg == 90:\n",
    "        return rot90(grid, k=1, direction=direction)\n",
    "    if deg == 180:\n",
    "        return rot90(grid, k=2, direction=\"ccw\")\n",
    "    if deg == 270:\n",
    "        return rot90(grid, k=3, direction=\"ccw\" if direction.lower()==\"cw\" else \"cw\")\n",
    "    raise ValueError(\"rotate: degrees must be one of {0,90,180,270}\")\n",
    "\n",
    "PRIMITIVES = {\n",
    "    \"flip_h\": flip_h,\n",
    "    \"flip_v\": flip_v,\n",
    "    \"rotate\": lambda g: rotate(g, 90, \"cw\"),\n",
    "    \"rot90\":  lambda g: rotate(g, 90, \"cw\"),\n",
    "    \"rot90_cw\":  lambda g: rotate(g, 90, \"cw\"),\n",
    "    \"rot90_ccw\": lambda g: rotate(g, 90, \"ccw\"),\n",
    "    \"rot180\": lambda g: rotate(g, 180, \"cw\"),\n",
    "    \"rot270\": lambda g: rotate(g, 270, \"cw\"),\n",
    "}\n",
    "\n",
    "def parse_grid(text):\n",
    "    if isinstance(text, (list, tuple, np.ndarray)):\n",
    "        return np.asarray(text, dtype=int)\n",
    "    s = str(text).strip()\n",
    "    for loader in (json.loads, ast.literal_eval):\n",
    "        try:\n",
    "            obj = loader(s)\n",
    "            return np.asarray(obj, dtype=int)\n",
    "        except Exception:\n",
    "            pass\n",
    "    rows = [r for r in s.replace(\"\\n\",\";\").split(\";\") if r.strip()]\n",
    "    parsed_rows = []\n",
    "    for r in rows:\n",
    "        cells = [c for c in r.replace(\",\", \" \").split(\" \") if c.strip()]\n",
    "        parsed_rows.append([int(c) for c in cells])\n",
    "    return np.asarray(parsed_rows, dtype=int)\n",
    "\n",
    "def apply_label(grid, label):\n",
    "    if label not in PRIMITIVES:\n",
    "        raise KeyError(f\"Unknown label '{label}'. Known: {sorted(PRIMITIVES.keys())}\")\n",
    "    return PRIMITIVES[label](grid)"
   ]
  },
  {
   "cell_type": "code",
   "execution_count": 4,
   "id": "b1500f17-4ab4-4df6-a44b-b6dc7166064a",
   "metadata": {},
   "outputs": [
    {
     "data": {
      "text/plain": [
       "array([[3, 0, 1],\n",
       "       [3, 2, 1],\n",
       "       [3, 2, 0]])"
      ]
     },
     "execution_count": 4,
     "metadata": {},
     "output_type": "execute_result"
    }
   ],
   "source": [
    "# import importlib, sys\n",
    "# # sys.path.append(\"/mnt/data\")  # if needed\n",
    "# arcp = importlib.import_module(\"arc_primitives\")\n",
    "\n",
    "g = parse_grid(\"[[0,1,1],[2,2,0],[3,3,3]]\")\n",
    "g2 = apply_label(g, \"flip_h\")\n",
    "PRIMITIVES[\"rot90\"](g2)"
   ]
  }
 ],
 "metadata": {
  "kernelspec": {
   "display_name": "Python 3 (ipykernel)",
   "language": "python",
   "name": "python3"
  },
  "language_info": {
   "codemirror_mode": {
    "name": "ipython",
    "version": 3
   },
   "file_extension": ".py",
   "mimetype": "text/x-python",
   "name": "python",
   "nbconvert_exporter": "python",
   "pygments_lexer": "ipython3",
   "version": "3.10.0rc2"
  }
 },
 "nbformat": 4,
 "nbformat_minor": 5
}
