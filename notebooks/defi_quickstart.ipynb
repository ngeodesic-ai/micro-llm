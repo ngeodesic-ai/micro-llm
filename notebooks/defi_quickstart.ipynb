{
 "cells": [
  {
   "cell_type": "code",
   "execution_count": 2,
   "id": "934297a2-eae6-4f31-bd99-4a2cf15250dc",
   "metadata": {},
   "outputs": [
    {
     "name": "stdout",
     "output_type": "stream",
     "text": [
      "DeFi result:\n",
      "{\n",
      "  \"plan\": {\n",
      "    \"sequence\": [\n",
      "      \"deposit_asset\"\n",
      "    ]\n",
      "  },\n",
      "  \"verify\": {\n",
      "    \"ok\": true,\n",
      "    \"reason\": \"\"\n",
      "  }\n",
      "}\n"
     ]
    }
   ],
   "source": [
    "from micro_llm.pipelines.runner import run_micro\n",
    "import json\n",
    "\n",
    "# DeFi prompt → hybrid mapper → NGF rails → verify\n",
    "defi_res = run_micro(\n",
    "    domain=\"defi\",\n",
    "    prompt=\"deposit 10 ETH into aave\",\n",
    "    context={\n",
    "        \"positions\": {\"collateral_value\": 1000.0, \"debt_value\": 0.0},\n",
    "        \"risk\": {\"hf\": 1.22},\n",
    "        \"oracle\": {\"age_sec\": 5, \"max_age_sec\": 30}\n",
    "    },\n",
    "    policy={\"ltv_max\": 0.75},\n",
    "    rails=\"stage11\",\n",
    "    T=180\n",
    ")\n",
    "\n",
    "print(\"DeFi result:\")\n",
    "print(json.dumps({\n",
    "    \"plan\": defi_res.get(\"plan\"),\n",
    "    \"verify\": defi_res.get(\"verify\")\n",
    "}, indent=2))\n"
   ]
  }
 ],
 "metadata": {
  "kernelspec": {
   "display_name": "Python 3 (ipykernel)",
   "language": "python",
   "name": "python3"
  },
  "language_info": {
   "codemirror_mode": {
    "name": "ipython",
    "version": 3
   },
   "file_extension": ".py",
   "mimetype": "text/x-python",
   "name": "python",
   "nbconvert_exporter": "python",
   "pygments_lexer": "ipython3",
   "version": "3.10.0rc2"
  }
 },
 "nbformat": 4,
 "nbformat_minor": 5
}
