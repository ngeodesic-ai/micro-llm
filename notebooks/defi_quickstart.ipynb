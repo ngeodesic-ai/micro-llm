{
 "cells": [
  {
   "cell_type": "code",
   "execution_count": 5,
   "id": "af28a1cd-602c-45b4-87ce-6e149764f056",
   "metadata": {},
   "outputs": [
    {
     "name": "stdout",
     "output_type": "stream",
     "text": [
      "{'ok': True, 'label': 'deposit_asset', 'score': 0.66, 'reason': 'shim:accept:stage-4', 'artifacts': {'mapper': {'score': 0.66, 'reason': 'word:deposit', 'aux': {'reason': 'word:deposit'}}, 'verify': {'ok': True, 'reason': 'shim:accept:stage-4'}, 'schema': {'v': 1, 'keys': ['mapper', 'verify']}}}\n"
     ]
    }
   ],
   "source": [
    "from micro_lm.core.runner import run_micro\n",
    "\n",
    "# Example prompt\n",
    "prompt = \"deposit 10 ETH into aave\"\n",
    "\n",
    "# Minimal policy & context\n",
    "policy = {\n",
    "    \"mapper\": {\n",
    "        \"model_path\": \".artifacts/defi_mapper.joblib\",\n",
    "        \"confidence_threshold\": 0.5,\n",
    "    }\n",
    "}\n",
    "context = {}\n",
    "\n",
    "# Run through micro-lm pipeline\n",
    "out = run_micro(\n",
    "    domain=\"defi\",\n",
    "    prompt=prompt,\n",
    "    context=context,\n",
    "    policy=policy,\n",
    "    rails=\"stage11\",\n",
    "    T=180,\n",
    "    backend=\"wordmap\",   # or \"sbert\"\n",
    ")\n",
    "\n",
    "print(out)"
   ]
  }
 ],
 "metadata": {
  "kernelspec": {
   "display_name": "Python 3 (ipykernel)",
   "language": "python",
   "name": "python3"
  },
  "language_info": {
   "codemirror_mode": {
    "name": "ipython",
    "version": 3
   },
   "file_extension": ".py",
   "mimetype": "text/x-python",
   "name": "python",
   "nbconvert_exporter": "python",
   "pygments_lexer": "ipython3",
   "version": "3.10.0rc2"
  }
 },
 "nbformat": 4,
 "nbformat_minor": 5
}
