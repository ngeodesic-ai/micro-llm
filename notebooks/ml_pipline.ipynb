{
 "cells": [
  {
   "cell_type": "code",
   "execution_count": 36,
   "id": "cf3e0540-39d8-4746-9fe5-e39c4b161f3b",
   "metadata": {},
   "outputs": [],
   "source": [
    "from micro_lm.core.mapper.base import load_backend\n",
    "from pathlib import Path\n",
    "from typing import List\n",
    "import argparse, json, csv, time, sys\n",
    "import json\n",
    "import os\n",
    "cwd =  os.getcwd().replace(\"/notebooks\",\"\")\n",
    "os.chdir(cwd)"
   ]
  },
  {
   "cell_type": "code",
   "execution_count": 73,
   "id": "ab97799f-8693-4dae-8e05-69b175a70451",
   "metadata": {},
   "outputs": [],
   "source": [
    "def read_prompts_jsonl(fp: Path) -> List[str]:\n",
    "    rows=[]\n",
    "    with fp.open() as f:\n",
    "        for line in f:\n",
    "            J=json.loads(line)\n",
    "            rows.append(J[\"prompt\"] if isinstance(J, dict) and \"prompt\" in J else line.strip())\n",
    "    return rows\n",
    "\n",
    "def read_labels_csv(fp: Path) -> List[str]:\n",
    "    out=[]\n",
    "    with fp.open() as f:\n",
    "        R=csv.DictReader(f)\n",
    "        for r in R:\n",
    "            out.append(r[\"label\"])\n",
    "    return out\n",
    "\n",
    "def run(args: argparse.Namespace) -> int:\n",
    "    out_dir = Path(args.out_dir or \".artifacts/defi/mapper_bench\")\n",
    "    out_dir.mkdir(parents=True, exist_ok=True)\n",
    "    prompts = read_prompts_jsonl(Path(args.prompts_jsonl))\n",
    "    gold    = read_labels_csv(Path(args.labels_csv))\n",
    "\n",
    "    thr = 0.5\n",
    "    backend = load_backend(args.backend, confidence_threshold=thr, model_path=args.model_path)\n",
    "\n",
    "    sub_prompts = prompts[0:10]\n",
    "    preds = backend.predict(sub_prompts)\n",
    "    print(preds)\n",
    "\n",
    "def get_args():\n",
    "    ap = argparse.ArgumentParser()\n",
    "    ap.add_argument(\"--backend\",       default=\"wordmap\", help=\"wordmap|sbert\")\n",
    "    ap.add_argument(\"--model_path\",    default=\".artifacts/defi_mapper.joblib\")\n",
    "    ap.add_argument(\"--prompts_jsonl\", default=\"tests/fixtures/defi/mapper_smoke_prompts.jsonl\")\n",
    "    ap.add_argument(\"--labels_csv\",    default=\"tests/fixtures/defi/mapper_smoke_labels.csv\")\n",
    "    ap.add_argument(\"--thresholds\",    default=\"0.3,0.35,0.4,0.7\")\n",
    "    ap.add_argument(\"--out_dir\",       default=\"\")\n",
    "    ap.add_argument(\"--min_overall_acc\", default=None)\n",
    "    \n",
    "    notebook_args = [\n",
    "        \"--backend\", \"sbert\",\n",
    "        \"--model_path\", \".artifacts/defi_mapper.joblib\",\n",
    "        \"--prompts_jsonl\", \"tests/fixtures/defi/defi_mapper_5k_prompts.jsonl\",\n",
    "        \"--labels_csv\", \"tests/fixtures/defi/defi_mapper_labeled_5k.csv\",\n",
    "        \"--thresholds\", \"0.5,0.55,0.6,0.65,0.7\",\n",
    "        \"--min_overall_acc\", \"0.75\",\n",
    "        \"--out_dir\", \".artifacts/defi/mapper_bench\",\n",
    "    ]\n",
    "    \n",
    "    return ap.parse_args(notebook_args)"
   ]
  },
  {
   "cell_type": "code",
   "execution_count": 72,
   "id": "eebc5ea0-3928-40ba-a488-241cf257284c",
   "metadata": {},
   "outputs": [
    {
     "name": "stdout",
     "output_type": "stream",
     "text": [
      "[mapper] backend= sbert kwargs= {'confidence_threshold': 0.5, 'model_path': '.artifacts/defi_mapper.joblib'}\n",
      "[(None, 0.0), (None, 0.0), (None, 0.0), (None, 0.0), (None, 0.0), (None, 0.0), (None, 0.0), (None, 0.0), (None, 0.0), (None, 0.0)]\n"
     ]
    }
   ],
   "source": [
    "args = get_args()\n",
    "run(args)"
   ]
  },
  {
   "cell_type": "code",
   "execution_count": 74,
   "id": "bfd7b6bc-ceca-41f0-a72d-35c5c3bee859",
   "metadata": {},
   "outputs": [
    {
     "name": "stdout",
     "output_type": "stream",
     "text": [
      "[mapper] backend= sbert kwargs= {'confidence_threshold': 0.5, 'model_path': '.artifacts/defi_mapper.joblib'}\n",
      "[(None, 0.0), (None, 0.0), (None, 0.0), (None, 0.0), (None, 0.0), (None, 0.0), (None, 0.0), (None, 0.0), (None, 0.0), (None, 0.0)]\n"
     ]
    }
   ],
   "source": [
    "out_dir = Path(args.out_dir or \".artifacts/defi/mapper_bench\")\n",
    "out_dir.mkdir(parents=True, exist_ok=True)\n",
    "prompts = read_prompts_jsonl(Path(args.prompts_jsonl))\n",
    "gold    = read_labels_csv(Path(args.labels_csv))\n",
    "\n",
    "thr = 0.5\n",
    "backend = load_backend(args.backend, confidence_threshold=thr, model_path=args.model_path)\n",
    "\n",
    "sub_prompts = prompts[0:10]\n",
    "preds = backend.predict(sub_prompts)\n",
    "print(preds)"
   ]
  },
  {
   "cell_type": "code",
   "execution_count": null,
   "id": "f5e8e35a-4391-42a7-8da5-2afab8f44872",
   "metadata": {},
   "outputs": [],
   "source": [
    "\n"
   ]
  },
  {
   "cell_type": "code",
   "execution_count": null,
   "id": "9be72c7c-5d63-4e4b-ab26-c2afd5e64e6e",
   "metadata": {},
   "outputs": [],
   "source": []
  }
 ],
 "metadata": {
  "kernelspec": {
   "display_name": "Python 3 (ipykernel)",
   "language": "python",
   "name": "python3"
  },
  "language_info": {
   "codemirror_mode": {
    "name": "ipython",
    "version": 3
   },
   "file_extension": ".py",
   "mimetype": "text/x-python",
   "name": "python",
   "nbconvert_exporter": "python",
   "pygments_lexer": "ipython3",
   "version": "3.10.0rc2"
  }
 },
 "nbformat": 4,
 "nbformat_minor": 5
}
