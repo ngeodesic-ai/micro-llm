{
 "cells": [
  {
   "cell_type": "code",
   "execution_count": 10,
   "id": "ebd0e73f-38f2-40fc-9002-3490c9626ebe",
   "metadata": {},
   "outputs": [],
   "source": [
    "import os\n",
    "cwd =  os.getcwd().replace(\"notebooks\",\"\")\n",
    "os.chdir(cwd)"
   ]
  },
  {
   "cell_type": "code",
   "execution_count": 11,
   "id": "b75784b7-f4a0-494a-a4fd-bb8de322c45f",
   "metadata": {},
   "outputs": [],
   "source": [
    "import os, sys, warnings\n",
    "sys.path.insert(0, os.path.join(os.getcwd(), \"src\"))\n",
    "warnings.filterwarnings(\"ignore\", category=FutureWarning)\n",
    "\n",
    "from micro_lm.compat.legacy_imports import install as _ml_legacy_install\n",
    "_ml_legacy_install()  # aliases legacy 'encoders' & exports SBERTEncoder into __main__\n"
   ]
  },
  {
   "cell_type": "code",
   "execution_count": 3,
   "id": "f87476d0-e8eb-4c5d-afdd-40db2ab5ebef",
   "metadata": {},
   "outputs": [],
   "source": [
    "STRICT_POLICY = {\n",
    "    \"audit\": {\"backend\":\"wdd\",\"mode\":\"family\",\"K\":12,\"template_width\":64,\"z_abs\":0.55,\"keep_frac\":0.70},\n",
    "    \"ltv_max\":0.75, \"hf_min\":1.0,\n",
    "    \"mapper\": {\"use_shim_fallback\": False, \"confidence_threshold\": 1.01, \"model_path\": \"\"},  # block fallback\n",
    "}\n",
    "STRICT_CONTEXT = {\"oracle\": {\"age_sec\": 5, \"max_age_sec\": 30}}\n",
    "\n",
    "from micro_lm.domains.defi.families_wdd import defi_family_registry\n",
    "_ = defi_family_registry(K=STRICT_POLICY[\"audit\"][\"K\"])  # uses FamilySpec from core.audit"
   ]
  },
  {
   "cell_type": "code",
   "execution_count": 4,
   "id": "51cfa92f-9d46-485d-b956-fb101db41be6",
   "metadata": {},
   "outputs": [],
   "source": [
    "from micro_lm import run_micro\n",
    "\n",
    "def run_defi_strict(prompt: str, *, T=180, rails=\"stage11\"):\n",
    "    import json\n",
    "    out = run_micro(\"defi\", prompt, context=dict(STRICT_CONTEXT),\n",
    "                    policy=json.loads(json.dumps(STRICT_POLICY)), rails=rails, T=T)\n",
    "    # guard: fail if mapper/shim artifacts slipped in\n",
    "    v, arts, flags = (out.get(\"verify\") or {}), (out.get(\"artifacts\") or {}), (out.get(\"flags\") or {})\n",
    "    mapper_in_arts = (\"mapper\" in arts) or (\"artifacts\" in arts and isinstance(arts[\"artifacts\"], dict) and \"mapper\" in arts[\"artifacts\"])\n",
    "    if flags.get(\"mapper_fallback\") or \"shim:\" in (v.get(\"reason\",\"\").lower()) or mapper_in_arts:\n",
    "        raise AssertionError(f\"WDD-only violation for {prompt!r}: reason={v.get('reason')}, flags={flags}, arts_keys={list(arts.keys())}\")\n",
    "    seq = (out.get(\"plan\") or {}).get(\"sequence\") or []\n",
    "    if not seq:\n",
    "        raise AssertionError(f\"No plan.sequence produced for {prompt!r} (WDD family mode).\")\n",
    "    return out\n"
   ]
  },
  {
   "cell_type": "code",
   "execution_count": 5,
   "id": "5adbe25a-6211-4923-8509-64c5032dcec1",
   "metadata": {},
   "outputs": [
    {
     "name": "stdout",
     "output_type": "stream",
     "text": [
      "deposit 10 ETH into aave → ['deposit_asset']\n",
      "swap 2 ETH for USDC → ['swap_asset']\n",
      "Edge blocked (as expected): withdraw 5 ETH | WDD-only violation for 'withdraw 5 ETH': reason=None, flags={}, arts_keys=['mapper', 'verify', 'schema']\n",
      "Edge blocked (as expected): increase borrow to the maximum | No plan.sequence produced for 'increase borrow to the maximum' (WDD family mode).\n",
      "Edge blocked (as expected): borrow 1000 USDC | No plan.sequence produced for 'borrow 1000 USDC' (WDD family mode).\n",
      "Edge blocked (as expected): stake xyz | No plan.sequence produced for 'stake xyz' (WDD family mode).\n"
     ]
    }
   ],
   "source": [
    "for p in [\"deposit 10 ETH into aave\", \"swap 2 ETH for USDC\"]:\n",
    "    print(p, \"→\", (run_defi_strict(p).get(\"plan\") or {}).get(\"sequence\"))\n",
    "\n",
    "for p in [\"withdraw 5 ETH\", \"increase borrow to the maximum\", \"borrow 1000 USDC\", \"stake xyz\"]:\n",
    "    try:\n",
    "        run_defi_strict(p); print(\"UNEXPECTED OK:\", p)\n",
    "    except AssertionError as e:\n",
    "        print(\"Edge blocked (as expected):\", p, \"|\", str(e).splitlines()[0])\n"
   ]
  },
  {
   "cell_type": "code",
   "execution_count": 6,
   "id": "ca21ca03-cb40-40cf-9e66-e254d925159d",
   "metadata": {},
   "outputs": [],
   "source": [
    "# import os, sys, warnings\n",
    "# sys.path.insert(0, os.path.join(os.getcwd(), \"src\"))  # so `micro_lm` resolves\n",
    "# warnings.filterwarnings(\"ignore\", category=FutureWarning)\n",
    "\n",
    "# # hard-block legacy paths\n",
    "# os.environ[\"MICROLM_DISABLE_SHIM\"]   = \"1\"\n",
    "# os.environ[\"MICROLM_DISABLE_MAPPER\"] = \"1\""
   ]
  },
  {
   "cell_type": "code",
   "execution_count": 13,
   "id": "7fb32e80-52c9-4fd2-af82-472cba3d8ae6",
   "metadata": {},
   "outputs": [],
   "source": [
    "# from micro_lm.core.audit import run_families\n",
    "# from micro_lm.domains.defi.families_wdd import defi_family_registry\n",
    "# policy = {\"audit\":{\"backend\":\"wdd\",\"mode\":\"family\",\"K\":12,\"template_width\":64,\"z_abs\":0.55,\"keep_frac\":0.70}}\n",
    "# fams = defi_family_registry(K=12)\n",
    "# print(run_families(\"deposit 10 ETH into aave\", fams, policy, {}).get(\"order\"))\n",
    "# print(run_families(\"swap 2 ETH for USDC\",      fams, policy, {}).get(\"order\"))"
   ]
  },
  {
   "cell_type": "code",
   "execution_count": 8,
   "id": "016710b6-dc25-447f-87e4-7391273679c5",
   "metadata": {},
   "outputs": [],
   "source": [
    "# from micro_lm import run_micro                    # stable facade if you added it\n",
    "# from micro_lm.domains.defi.families_wdd import defi_family_registry\n",
    "\n",
    "# STRICT_POLICY = {\n",
    "#     \"audit\": {\n",
    "#         \"backend\": \"wdd\",\n",
    "#         \"mode\": \"family\",\n",
    "#         # knobs that your families_wdd expects:\n",
    "#         \"K\": 12, \"template_width\": 64, \"z_abs\": 0.55, \"keep_frac\": 0.70,\n",
    "#     },\n",
    "#     \"ltv_max\": 0.75,\n",
    "#     \"hf_min\": 1.0,\n",
    "# }\n",
    "# STRICT_CONTEXT = {\"oracle\": {\"age_sec\": 5, \"max_age_sec\": 30}}\n",
    "\n",
    "# # optional: build the registry now (handy to verify import works)\n",
    "# _ = defi_family_registry(K=STRICT_POLICY[\"audit\"][\"K\"])\n"
   ]
  },
  {
   "cell_type": "code",
   "execution_count": 9,
   "id": "8a0f2632-1691-4949-873d-37f5ab5b4c3a",
   "metadata": {},
   "outputs": [],
   "source": [
    "# import json\n",
    "\n",
    "# def run_defi_strict(prompt: str, *, T=180, rails=\"stage11\"):\n",
    "#     out = run_micro(domain=\"defi\", prompt=prompt,\n",
    "#                     context=dict(STRICT_CONTEXT),\n",
    "#                     policy=json.loads(json.dumps(STRICT_POLICY)),\n",
    "#                     rails=rails, T=T)\n",
    "\n",
    "#     # hard fail if any shim/mapper path slipped through\n",
    "#     v = (out.get(\"verify\") or {})\n",
    "#     reason = (v.get(\"reason\") or \"\").lower()\n",
    "#     arts = (out.get(\"artifacts\") or {})\n",
    "#     flags = (out.get(\"flags\") or {})\n",
    "\n",
    "#     mapper_in_arts = (\"mapper\" in arts) or (\"artifacts\" in arts and isinstance(arts[\"artifacts\"], dict) and \"mapper\" in arts[\"artifacts\"])\n",
    "#     if flags.get(\"mapper_fallback\") or \"shim:\" in reason or mapper_in_arts:\n",
    "#         raise AssertionError(f\"WDD-only violation for {prompt!r}: reason={reason}, flags={flags}, arts_keys={list(arts.keys())}\")\n",
    "\n",
    "#     seq = (out.get(\"plan\") or {}).get(\"sequence\") or []\n",
    "#     if not seq:\n",
    "#         raise AssertionError(f\"No plan.sequence produced for {prompt!r} (WDD family mode).\")\n",
    "#     return out\n",
    "\n",
    "# # Kick the tires — execs\n",
    "# for p in [\"deposit 10 ETH into aave\", \"swap 2 ETH for USDC\"]:\n",
    "#     o = run_defi_strict(p)\n",
    "#     print(p, \"→\", (o.get(\"plan\") or {}).get(\"sequence\"))\n",
    "\n",
    "# # (Optional) edges should be blocked by policy rails:\n",
    "# for p in [\"withdraw 5 ETH\", \"increase borrow to the maximum\", \"borrow 1000 USDC\", \"stake xyz\"]:\n",
    "#     try:\n",
    "#         o = run_defi_strict(p)\n",
    "#         print(\"UNEXPECTED OK:\", p, (o.get(\"plan\") or {}).get(\"sequence\"))\n",
    "#     except AssertionError as e:\n",
    "#         # In strict mode, absence of a safe plan or an abstain is expected here\n",
    "#         print(\"Edge blocked (as expected):\", p, \"|\", str(e).splitlines()[0])\n"
   ]
  }
 ],
 "metadata": {
  "kernelspec": {
   "display_name": "Python 3 (ipykernel)",
   "language": "python",
   "name": "python3"
  },
  "language_info": {
   "codemirror_mode": {
    "name": "ipython",
    "version": 3
   },
   "file_extension": ".py",
   "mimetype": "text/x-python",
   "name": "python",
   "nbconvert_exporter": "python",
   "pygments_lexer": "ipython3",
   "version": "3.10.0rc2"
  }
 },
 "nbformat": 4,
 "nbformat_minor": 5
}
